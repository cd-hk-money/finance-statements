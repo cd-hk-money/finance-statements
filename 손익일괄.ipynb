{
  "nbformat": 4,
  "nbformat_minor": 0,
  "metadata": {
    "colab": {
      "name": "손익일괄.ipynb",
      "provenance": [],
      "collapsed_sections": [],
      "mount_file_id": "1TJBRfOuNeort3IOYbLCwPf8z-G4YSZOx",
      "authorship_tag": "ABX9TyMNxBaF4Zhh1R/EIGsj+RCj",
      "include_colab_link": true
    },
    "kernelspec": {
      "name": "python3",
      "display_name": "Python 3"
    },
    "language_info": {
      "name": "python"
    }
  },
  "cells": [
    {
      "cell_type": "markdown",
      "metadata": {
        "id": "view-in-github",
        "colab_type": "text"
      },
      "source": [
        "<a href=\"https://colab.research.google.com/github/wkd-woo/finance-statements/blob/main/%EC%86%90%EC%9D%B5%EC%9D%BC%EA%B4%84.ipynb\" target=\"_parent\"><img src=\"https://colab.research.google.com/assets/colab-badge.svg\" alt=\"Open In Colab\"/></a>"
      ]
    },
    {
      "cell_type": "code",
      "source": [
        "!pip install -U finance-datareader"
      ],
      "metadata": {
        "id": "20iSJ6Uao9Kb",
        "colab": {
          "base_uri": "https://localhost:8080/"
        },
        "outputId": "ccfed200-f3af-40e3-8262-1c4f56c6e83b"
      },
      "execution_count": 1,
      "outputs": [
        {
          "output_type": "stream",
          "name": "stdout",
          "text": [
            "Collecting finance-datareader\n",
            "  Downloading finance_datareader-0.9.33-py3-none-any.whl (48 kB)\n",
            "\u001b[?25l\r\u001b[K     |██████▊                         | 10 kB 9.2 MB/s eta 0:00:01\r\u001b[K     |█████████████▍                  | 20 kB 14.6 MB/s eta 0:00:01\r\u001b[K     |████████████████████▏           | 30 kB 12.1 MB/s eta 0:00:01\r\u001b[K     |██████████████████████████▉     | 40 kB 10.1 MB/s eta 0:00:01\r\u001b[K     |████████████████████████████████| 48 kB 2.7 MB/s \n",
            "\u001b[?25hRequirement already satisfied: tqdm in /usr/local/lib/python3.7/dist-packages (from finance-datareader) (4.63.0)\n",
            "Requirement already satisfied: requests>=2.3.0 in /usr/local/lib/python3.7/dist-packages (from finance-datareader) (2.23.0)\n",
            "Requirement already satisfied: lxml in /usr/local/lib/python3.7/dist-packages (from finance-datareader) (4.2.6)\n",
            "Collecting requests-file\n",
            "  Downloading requests_file-1.5.1-py2.py3-none-any.whl (3.7 kB)\n",
            "Requirement already satisfied: pandas>=0.19.2 in /usr/local/lib/python3.7/dist-packages (from finance-datareader) (1.3.5)\n",
            "Requirement already satisfied: pytz>=2017.3 in /usr/local/lib/python3.7/dist-packages (from pandas>=0.19.2->finance-datareader) (2018.9)\n",
            "Requirement already satisfied: numpy>=1.17.3 in /usr/local/lib/python3.7/dist-packages (from pandas>=0.19.2->finance-datareader) (1.21.5)\n",
            "Requirement already satisfied: python-dateutil>=2.7.3 in /usr/local/lib/python3.7/dist-packages (from pandas>=0.19.2->finance-datareader) (2.8.2)\n",
            "Requirement already satisfied: six>=1.5 in /usr/local/lib/python3.7/dist-packages (from python-dateutil>=2.7.3->pandas>=0.19.2->finance-datareader) (1.15.0)\n",
            "Requirement already satisfied: certifi>=2017.4.17 in /usr/local/lib/python3.7/dist-packages (from requests>=2.3.0->finance-datareader) (2021.10.8)\n",
            "Requirement already satisfied: idna<3,>=2.5 in /usr/local/lib/python3.7/dist-packages (from requests>=2.3.0->finance-datareader) (2.10)\n",
            "Requirement already satisfied: chardet<4,>=3.0.2 in /usr/local/lib/python3.7/dist-packages (from requests>=2.3.0->finance-datareader) (3.0.4)\n",
            "Requirement already satisfied: urllib3!=1.25.0,!=1.25.1,<1.26,>=1.21.1 in /usr/local/lib/python3.7/dist-packages (from requests>=2.3.0->finance-datareader) (1.24.3)\n",
            "Installing collected packages: requests-file, finance-datareader\n",
            "Successfully installed finance-datareader-0.9.33 requests-file-1.5.1\n"
          ]
        }
      ]
    },
    {
      "cell_type": "code",
      "execution_count": 2,
      "metadata": {
        "id": "Apxg6vyi57eK"
      },
      "outputs": [],
      "source": [
        "import pandas as pd\n",
        "import os\n",
        "from tqdm import tqdm\n",
        "import FinanceDataReader as fdr"
      ]
    },
    {
      "cell_type": "markdown",
      "source": [
        "# 파일별로 분류"
      ],
      "metadata": {
        "id": "iD13D-F14inJ"
      }
    },
    {
      "cell_type": "code",
      "source": [
        "import glob\n",
        "\n",
        "재무상태표 = [] # _01_\n",
        "손익계산서 = [] # _02_\n",
        "포괄손익계산서 = [] # _03_\n",
        "현금흐름표 = [] # _04_\n",
        "자본변동표 = [] #_05_\n",
        "\n",
        "\n",
        "for name in glob.glob('/content/drive/MyDrive/22캡스톤디자인/재무일괄/*.txt'):\n",
        "  if '_01_' in name:\n",
        "    재무상태표.append(name)\n",
        "  elif '_02_' in name:\n",
        "    손익계산서.append(name)\n",
        "  elif '_03_' in name:\n",
        "    포괄손익계산서.append(name)\n",
        "  elif '_04_' in name:\n",
        "    현금흐름표.append(name)\n",
        "  elif '_05_' in name:\n",
        "    자본변동표.append(name)"
      ],
      "metadata": {
        "id": "bDQfcVt-YC5d"
      },
      "execution_count": 3,
      "outputs": []
    },
    {
      "cell_type": "code",
      "source": [
        "sample = pd.DataFrame(columns=['종목코드','사업연도', '보고서종류', '회사명', '업종', '항목코드','항목명', '당기'])"
      ],
      "metadata": {
        "id": "31ZtygqJSAwb"
      },
      "execution_count": 4,
      "outputs": []
    },
    {
      "cell_type": "markdown",
      "source": [
        "# 데이터 추출"
      ],
      "metadata": {
        "id": "rzvhK7P4rDKF"
      }
    },
    {
      "cell_type": "code",
      "source": [
        "for path in tqdm(손익계산서):\n",
        "  df = pd.read_csv(path, delimiter = '\\t', encoding='cp949')\n",
        "\n",
        "  당기 = ''\n",
        "  if df['보고서종류'][0] == '1분기보고서':\n",
        "    당기 = '당기 1분기 누적' \n",
        "  elif df['보고서종류'][0] == '반기보고서':\n",
        "    당기 = '당기 반기 누적' \n",
        "  elif df['보고서종류'][0] == '3분기보고서':\n",
        "    당기 = '당기 3분기 누적' \n",
        "  elif df['보고서종류'][0] == '사업보고서':\n",
        "    당기 = '당기' \n",
        "\n",
        "  df['사업연도'] = path[52:56] # 사업연도 컬럼 d설정 - 파일명에서 가져온다\n",
        "  df['항목명'] = df['항목명'].str.strip() # 항목명 컬럼 문자열 전처리\n",
        "  df['항목코드'] = df['항목코드'].str.strip() # 항목코드 컬럼 문자열 전처리\n",
        "\n",
        "  df = df[['종목코드','사업연도', '보고서종류', '회사명', '업종', '항목코드','항목명', 당기]]\n",
        "\n",
        "  전체종목 = len(df['종목코드'].unique())\n",
        "\n",
        "  # (수익)매출액 (ifrs-full_Revenue)\n",
        "  매출액 = df[(df['항목코드'] == 'ifrs_Revenue') | (df['항목코드'] == 'ifrs-full_Revenue') | (df['항목명'].isin(['매출액','(수익)매출액','매출액(수익)','수익(매출액)']))]\n",
        "  매출액.rename(columns={당기:\"당기\"}, inplace=True)\n",
        "  매출액.drop_duplicates(['종목코드','사업연도','보고서종류','항목명'])\n",
        "  sample = sample.append(매출액, sort=False, ignore_index=True)\n",
        "\n",
        "\n",
        "  # 매출총이익 (ifrs-full_GrossProfit))\n",
        "  매출총이익 = df[(df['항목코드'] == 'ifrs_GrossProfit') | (df['항목코드'] == 'ifrs-full_GrossProfit')| (df['항목명'].isin(['매출총이익','(수익)매출총이익','매출총이익(손실)']))]\n",
        "  매출총이익.rename(columns={당기:\"당기\"}, inplace=True)\n",
        "  매출총이익.drop_duplicates(['종목코드','사업연도','보고서종류','항목명'])\n",
        "  sample = sample.append(매출총이익, sort=False, ignore_index=True)\n",
        "\n",
        "  # 영업이익(손실) (dart_OperatingIncomeLoss)\n",
        "  영업이익 = df[(df['항목코드'] == 'dart_OperatingIncomeLoss')|(df['항목명'].isin(['영업이익','영업이익(손실)']))]\n",
        "  영업이익.rename(columns={당기:\"당기\"}, inplace=True)\n",
        "  영업이익.drop_duplicates(['종목코드','사업연도','보고서종류','항목명'])\n",
        "  sample = sample.append(영업이익, sort=False, ignore_index=True)\n",
        "  \n",
        "  # 당기순이익(손실) (ifrs_ProfitLoss)\n",
        "  당기순이익 = df[(df['항목코드'] == 'ifrs-full_ProfitLoss') | (df['항목코드'] == 'ifrs_ProfitLoss') |  (df['항목명'].isin(['당기순이익','당기순이익(손실)']))]\n",
        "  당기순이익.rename(columns={당기:\"당기\"}, inplace=True)\n",
        "  당기순이익.drop_duplicates(['종목코드','사업연도','보고서종류','항목명'])\n",
        "  sample = sample.append(당기순이익, sort=False, ignore_index=True)\n",
        "\n",
        "  # 비지배지분(ifrs_ProfitLossAttributableToNoncontrollingInterests)\n",
        "  비지배지분 = df[(df['항목코드'] == 'ifrs-full_ProfitLossAttributableToNoncontrollingInterests') | (df['항목코드'] == 'ifrs_ProfitLossAttributableToNoncontrollingInterests') | (df['항목명'].str.contains('비지배'))]\n",
        "  비지배지분.rename(columns={당기:\"당기\"}, inplace=True)\n",
        "  비지배지분.drop_duplicates(['종목코드','사업연도','보고서종류','항목명'])\n",
        "  sample = sample.append(비지배지분, sort=False, ignore_index=True)\n",
        "\n",
        "  # 감가상각비(dart_DepreciationExpense)\n",
        "  감가상각비 = df[(df['항목코드'] == 'dart_DepreciationExpense')|(df['항목명'].isin(['감가상각비']))]\n",
        "  감가상각비.rename(columns={당기:\"당기\"}, inplace=True)\n",
        "  sample = sample.append(감가상각비, sort=False, ignore_index=True)\n",
        "\n",
        "  # 법인세비용차감전순이익(손실)(ifrs-full_ProfitLossBeforeTax)\n",
        "  법인세차감전순이익 = df[(df['항목코드'] == 'ifrs-full_ProfitLossBeforeTax') | (df['항목코드'] == 'ifrs_ProfitLossBeforeTax') | df['항목명'].isin(['법인세차감전순이익','법인세차감전순이익(손실)'])]\n",
        "  법인세차감전순이익.rename(columns={당기:\"당기\"}, inplace=True)\n",
        "  법인세차감전순이익.drop_duplicates(['종목코드','사업연도','보고서종류','항목명'])\n",
        "  sample = sample.append(법인세차감전순이익, sort=False, ignore_index=True)\n",
        "  \n"
      ],
      "metadata": {
        "colab": {
          "base_uri": "https://localhost:8080/"
        },
        "id": "pTjG2UQBAxzX",
        "outputId": "8be5042f-4c7d-425d-c82b-df960b6f62f9"
      },
      "execution_count": 5,
      "outputs": [
        {
          "output_type": "stream",
          "name": "stderr",
          "text": [
            "  0%|          | 0/24 [00:00<?, ?it/s]/usr/local/lib/python3.7/dist-packages/pandas/core/frame.py:5047: SettingWithCopyWarning: \n",
            "A value is trying to be set on a copy of a slice from a DataFrame\n",
            "\n",
            "See the caveats in the documentation: https://pandas.pydata.org/pandas-docs/stable/user_guide/indexing.html#returning-a-view-versus-a-copy\n",
            "  errors=errors,\n",
            "100%|██████████| 24/24 [00:10<00:00,  2.20it/s]\n"
          ]
        }
      ]
    },
    {
      "cell_type": "markdown",
      "source": [
        "# 데이터 전처리"
      ],
      "metadata": {
        "id": "T0CEb_plrH6O"
      }
    },
    {
      "cell_type": "code",
      "source": [
        "sample['종목코드'] = sample['종목코드'].apply(lambda x:x[1:-1]) "
      ],
      "metadata": {
        "id": "iHgWz7ZGBWSa"
      },
      "execution_count": 6,
      "outputs": []
    },
    {
      "cell_type": "code",
      "source": [
        "mask = (sample['항목명'].str.contains('포괄|계속|중단'))|(sample['항목코드'].str.contains('continu|Continu'))\n",
        "sample = sample[~mask]"
      ],
      "metadata": {
        "id": "IINbhlSXZjAy"
      },
      "execution_count": 26,
      "outputs": []
    },
    {
      "cell_type": "code",
      "source": [
        "len(sample['항목코드'].unique())"
      ],
      "metadata": {
        "colab": {
          "base_uri": "https://localhost:8080/"
        },
        "id": "qaKQccLPYM3M",
        "outputId": "a8c0b2d6-0341-4d56-c17b-f6779ba89d0c"
      },
      "execution_count": 23,
      "outputs": [
        {
          "output_type": "execute_result",
          "data": {
            "text/plain": [
              "68"
            ]
          },
          "metadata": {},
          "execution_count": 23
        }
      ]
    },
    {
      "cell_type": "code",
      "source": [
        "sample['항목명'] = sample.apply(lambda x: '매출액' if x['항목코드'] == 'ifrs_Revenue' else x['항목명'], axis=1)\n",
        "sample['항목명'] = sample.apply(lambda x: '매출액' if x['항목코드'] == 'ifrs-full_Revenue' else x['항목명'], axis=1)\n",
        "sample['항목명'] = sample.apply(lambda x: '매출총이익' if x['항목코드'] == 'ifrs_GrossProfit' else x['항목명'], axis=1)\n",
        "sample['항목명'] = sample.apply(lambda x: '매출총이익' if x['항목코드'] == 'ifrs-full_GrossProfit' else x['항목명'], axis=1)\n",
        "sample['항목명'] = sample.apply(lambda x: '영업이익' if x['항목코드'] == 'dart_OperatingIncomeLoss' else x['항목명'], axis=1)\n",
        "sample['항목명'] = sample.apply(lambda x: '당기순이익' if x['항목코드'] == 'ifrs_ProfitLoss' else x['항목명'], axis=1)\n",
        "sample['항목명'] = sample.apply(lambda x: '당기순이익' if x['항목코드'] == 'ifrs-full_ProfitLoss' else x['항목명'], axis=1)\n",
        "\n",
        "sample['항목명'] = sample.apply(lambda x: '당기순이익(비지배)' if 'ProfitLossAttributableToNoncontrollingInterests' in x['항목코드'] else x['항목명'], axis=1)\n",
        "\n",
        "sample['항목명'] = sample.apply(lambda x: '감가상각비' if x['항목코드'] == 'dart_DepreciationExpense' else x['항목명'], axis=1)\n",
        "sample['항목명'] = sample.apply(lambda x: '법인세비용차감전순이익' if x['항목코드'] == 'ifrs_ProfitLossBeforeTax' else x['항목명'], axis=1)\n",
        "sample['항목명'] = sample.apply(lambda x: '법인세비용차감전순이익' if x['항목코드'] == 'ifrs-full_ProfitLossBeforeTax' else x['항목명'], axis=1)\n",
        "sample['항목명'] = sample.apply(lambda x: '매출액' if x['항목명'] == '수익(매출액)' else x['항목명'], axis=1)\n",
        "sample['항목명'] = sample.apply(lambda x: '매출총이익' if x['항목명'] == '매출총이익(손실)' else x['항목명'], axis=1)\n",
        "sample['항목명'] = sample.apply(lambda x: '영업이익' if x['항목명'] == '영업이익(손실)' else x['항목명'], axis=1)\n",
        "sample['항목명'] = sample.apply(lambda x: '당기순이익' if x['항목명'] == '당기순이익(손실)' else x['항목명'], axis=1)\n",
        "sample['항목명'] = sample.apply(lambda x: '법인세차감전순이익' if x['항목명'] == '법인세차감전순이익(손실)' else x['항목명'], axis=1)\n",
        "sample['항목명'] = sample.apply(lambda x: '법인세차감전순이익' if x['항목명'] == '법인세비용차감전순이익' else x['항목명'], axis=1)\n",
        "\n",
        "sample"
      ],
      "metadata": {
        "colab": {
          "base_uri": "https://localhost:8080/",
          "height": 424
        },
        "id": "T5QHQ2V7jG19",
        "outputId": "abfafe0e-1d7b-47ac-e9ba-e43fc983e783"
      },
      "execution_count": 9,
      "outputs": [
        {
          "output_type": "execute_result",
          "data": {
            "text/plain": [
              "         종목코드  사업연도   보고서종류      회사명   업종                      항목코드  \\\n",
              "0      001040  2016   사업보고서       CJ  715              ifrs_Revenue   \n",
              "1      000120  2016   사업보고서   CJ대한통운  493              ifrs_Revenue   \n",
              "2      155660  2016   사업보고서      DSR  139              ifrs_Revenue   \n",
              "3      078930  2016   사업보고서       GS  715              ifrs_Revenue   \n",
              "4      006360  2016   사업보고서     GS건설  411              ifrs_Revenue   \n",
              "...       ...   ...     ...      ...  ...                       ...   \n",
              "22985  005380  2016  3분기보고서    현대자동차  301  ifrs_ProfitLossBeforeTax   \n",
              "22986  011760  2016  3분기보고서   현대종합상사  468  ifrs_ProfitLossBeforeTax   \n",
              "22987  008770  2016  3분기보고서     호텔신라  478  ifrs_ProfitLossBeforeTax   \n",
              "22988  064240  2016  3분기보고서     홈캐스트  265  ifrs_ProfitLossBeforeTax   \n",
              "22989  006060  2016  3분기보고서  화승인더스트리  222  ifrs_ProfitLossBeforeTax   \n",
              "\n",
              "             항목명                  당기  \n",
              "0            매출액  23,954,197,397,000  \n",
              "1            매출액   6,081,945,642,204  \n",
              "2            매출액     201,060,062,780  \n",
              "3            매출액  13,462,426,000,000  \n",
              "4            매출액  11,035,596,402,664  \n",
              "...          ...                 ...  \n",
              "22985  법인세차감전순이익   6,039,684,000,000  \n",
              "22986  법인세차감전순이익      25,332,323,161  \n",
              "22987  법인세차감전순이익      46,642,039,050  \n",
              "22988  법인세차감전순이익      12,963,640,264  \n",
              "22989  법인세차감전순이익      42,911,453,991  \n",
              "\n",
              "[22990 rows x 8 columns]"
            ],
            "text/html": [
              "\n",
              "  <div id=\"df-4b46eb09-cf5b-462a-a1a6-86d7ef8c882e\">\n",
              "    <div class=\"colab-df-container\">\n",
              "      <div>\n",
              "<style scoped>\n",
              "    .dataframe tbody tr th:only-of-type {\n",
              "        vertical-align: middle;\n",
              "    }\n",
              "\n",
              "    .dataframe tbody tr th {\n",
              "        vertical-align: top;\n",
              "    }\n",
              "\n",
              "    .dataframe thead th {\n",
              "        text-align: right;\n",
              "    }\n",
              "</style>\n",
              "<table border=\"1\" class=\"dataframe\">\n",
              "  <thead>\n",
              "    <tr style=\"text-align: right;\">\n",
              "      <th></th>\n",
              "      <th>종목코드</th>\n",
              "      <th>사업연도</th>\n",
              "      <th>보고서종류</th>\n",
              "      <th>회사명</th>\n",
              "      <th>업종</th>\n",
              "      <th>항목코드</th>\n",
              "      <th>항목명</th>\n",
              "      <th>당기</th>\n",
              "    </tr>\n",
              "  </thead>\n",
              "  <tbody>\n",
              "    <tr>\n",
              "      <th>0</th>\n",
              "      <td>001040</td>\n",
              "      <td>2016</td>\n",
              "      <td>사업보고서</td>\n",
              "      <td>CJ</td>\n",
              "      <td>715</td>\n",
              "      <td>ifrs_Revenue</td>\n",
              "      <td>매출액</td>\n",
              "      <td>23,954,197,397,000</td>\n",
              "    </tr>\n",
              "    <tr>\n",
              "      <th>1</th>\n",
              "      <td>000120</td>\n",
              "      <td>2016</td>\n",
              "      <td>사업보고서</td>\n",
              "      <td>CJ대한통운</td>\n",
              "      <td>493</td>\n",
              "      <td>ifrs_Revenue</td>\n",
              "      <td>매출액</td>\n",
              "      <td>6,081,945,642,204</td>\n",
              "    </tr>\n",
              "    <tr>\n",
              "      <th>2</th>\n",
              "      <td>155660</td>\n",
              "      <td>2016</td>\n",
              "      <td>사업보고서</td>\n",
              "      <td>DSR</td>\n",
              "      <td>139</td>\n",
              "      <td>ifrs_Revenue</td>\n",
              "      <td>매출액</td>\n",
              "      <td>201,060,062,780</td>\n",
              "    </tr>\n",
              "    <tr>\n",
              "      <th>3</th>\n",
              "      <td>078930</td>\n",
              "      <td>2016</td>\n",
              "      <td>사업보고서</td>\n",
              "      <td>GS</td>\n",
              "      <td>715</td>\n",
              "      <td>ifrs_Revenue</td>\n",
              "      <td>매출액</td>\n",
              "      <td>13,462,426,000,000</td>\n",
              "    </tr>\n",
              "    <tr>\n",
              "      <th>4</th>\n",
              "      <td>006360</td>\n",
              "      <td>2016</td>\n",
              "      <td>사업보고서</td>\n",
              "      <td>GS건설</td>\n",
              "      <td>411</td>\n",
              "      <td>ifrs_Revenue</td>\n",
              "      <td>매출액</td>\n",
              "      <td>11,035,596,402,664</td>\n",
              "    </tr>\n",
              "    <tr>\n",
              "      <th>...</th>\n",
              "      <td>...</td>\n",
              "      <td>...</td>\n",
              "      <td>...</td>\n",
              "      <td>...</td>\n",
              "      <td>...</td>\n",
              "      <td>...</td>\n",
              "      <td>...</td>\n",
              "      <td>...</td>\n",
              "    </tr>\n",
              "    <tr>\n",
              "      <th>22985</th>\n",
              "      <td>005380</td>\n",
              "      <td>2016</td>\n",
              "      <td>3분기보고서</td>\n",
              "      <td>현대자동차</td>\n",
              "      <td>301</td>\n",
              "      <td>ifrs_ProfitLossBeforeTax</td>\n",
              "      <td>법인세차감전순이익</td>\n",
              "      <td>6,039,684,000,000</td>\n",
              "    </tr>\n",
              "    <tr>\n",
              "      <th>22986</th>\n",
              "      <td>011760</td>\n",
              "      <td>2016</td>\n",
              "      <td>3분기보고서</td>\n",
              "      <td>현대종합상사</td>\n",
              "      <td>468</td>\n",
              "      <td>ifrs_ProfitLossBeforeTax</td>\n",
              "      <td>법인세차감전순이익</td>\n",
              "      <td>25,332,323,161</td>\n",
              "    </tr>\n",
              "    <tr>\n",
              "      <th>22987</th>\n",
              "      <td>008770</td>\n",
              "      <td>2016</td>\n",
              "      <td>3분기보고서</td>\n",
              "      <td>호텔신라</td>\n",
              "      <td>478</td>\n",
              "      <td>ifrs_ProfitLossBeforeTax</td>\n",
              "      <td>법인세차감전순이익</td>\n",
              "      <td>46,642,039,050</td>\n",
              "    </tr>\n",
              "    <tr>\n",
              "      <th>22988</th>\n",
              "      <td>064240</td>\n",
              "      <td>2016</td>\n",
              "      <td>3분기보고서</td>\n",
              "      <td>홈캐스트</td>\n",
              "      <td>265</td>\n",
              "      <td>ifrs_ProfitLossBeforeTax</td>\n",
              "      <td>법인세차감전순이익</td>\n",
              "      <td>12,963,640,264</td>\n",
              "    </tr>\n",
              "    <tr>\n",
              "      <th>22989</th>\n",
              "      <td>006060</td>\n",
              "      <td>2016</td>\n",
              "      <td>3분기보고서</td>\n",
              "      <td>화승인더스트리</td>\n",
              "      <td>222</td>\n",
              "      <td>ifrs_ProfitLossBeforeTax</td>\n",
              "      <td>법인세차감전순이익</td>\n",
              "      <td>42,911,453,991</td>\n",
              "    </tr>\n",
              "  </tbody>\n",
              "</table>\n",
              "<p>22990 rows × 8 columns</p>\n",
              "</div>\n",
              "      <button class=\"colab-df-convert\" onclick=\"convertToInteractive('df-4b46eb09-cf5b-462a-a1a6-86d7ef8c882e')\"\n",
              "              title=\"Convert this dataframe to an interactive table.\"\n",
              "              style=\"display:none;\">\n",
              "        \n",
              "  <svg xmlns=\"http://www.w3.org/2000/svg\" height=\"24px\"viewBox=\"0 0 24 24\"\n",
              "       width=\"24px\">\n",
              "    <path d=\"M0 0h24v24H0V0z\" fill=\"none\"/>\n",
              "    <path d=\"M18.56 5.44l.94 2.06.94-2.06 2.06-.94-2.06-.94-.94-2.06-.94 2.06-2.06.94zm-11 1L8.5 8.5l.94-2.06 2.06-.94-2.06-.94L8.5 2.5l-.94 2.06-2.06.94zm10 10l.94 2.06.94-2.06 2.06-.94-2.06-.94-.94-2.06-.94 2.06-2.06.94z\"/><path d=\"M17.41 7.96l-1.37-1.37c-.4-.4-.92-.59-1.43-.59-.52 0-1.04.2-1.43.59L10.3 9.45l-7.72 7.72c-.78.78-.78 2.05 0 2.83L4 21.41c.39.39.9.59 1.41.59.51 0 1.02-.2 1.41-.59l7.78-7.78 2.81-2.81c.8-.78.8-2.07 0-2.86zM5.41 20L4 18.59l7.72-7.72 1.47 1.35L5.41 20z\"/>\n",
              "  </svg>\n",
              "      </button>\n",
              "      \n",
              "  <style>\n",
              "    .colab-df-container {\n",
              "      display:flex;\n",
              "      flex-wrap:wrap;\n",
              "      gap: 12px;\n",
              "    }\n",
              "\n",
              "    .colab-df-convert {\n",
              "      background-color: #E8F0FE;\n",
              "      border: none;\n",
              "      border-radius: 50%;\n",
              "      cursor: pointer;\n",
              "      display: none;\n",
              "      fill: #1967D2;\n",
              "      height: 32px;\n",
              "      padding: 0 0 0 0;\n",
              "      width: 32px;\n",
              "    }\n",
              "\n",
              "    .colab-df-convert:hover {\n",
              "      background-color: #E2EBFA;\n",
              "      box-shadow: 0px 1px 2px rgba(60, 64, 67, 0.3), 0px 1px 3px 1px rgba(60, 64, 67, 0.15);\n",
              "      fill: #174EA6;\n",
              "    }\n",
              "\n",
              "    [theme=dark] .colab-df-convert {\n",
              "      background-color: #3B4455;\n",
              "      fill: #D2E3FC;\n",
              "    }\n",
              "\n",
              "    [theme=dark] .colab-df-convert:hover {\n",
              "      background-color: #434B5C;\n",
              "      box-shadow: 0px 1px 3px 1px rgba(0, 0, 0, 0.15);\n",
              "      filter: drop-shadow(0px 1px 2px rgba(0, 0, 0, 0.3));\n",
              "      fill: #FFFFFF;\n",
              "    }\n",
              "  </style>\n",
              "\n",
              "      <script>\n",
              "        const buttonEl =\n",
              "          document.querySelector('#df-4b46eb09-cf5b-462a-a1a6-86d7ef8c882e button.colab-df-convert');\n",
              "        buttonEl.style.display =\n",
              "          google.colab.kernel.accessAllowed ? 'block' : 'none';\n",
              "\n",
              "        async function convertToInteractive(key) {\n",
              "          const element = document.querySelector('#df-4b46eb09-cf5b-462a-a1a6-86d7ef8c882e');\n",
              "          const dataTable =\n",
              "            await google.colab.kernel.invokeFunction('convertToInteractive',\n",
              "                                                     [key], {});\n",
              "          if (!dataTable) return;\n",
              "\n",
              "          const docLinkHtml = 'Like what you see? Visit the ' +\n",
              "            '<a target=\"_blank\" href=https://colab.research.google.com/notebooks/data_table.ipynb>data table notebook</a>'\n",
              "            + ' to learn more about interactive tables.';\n",
              "          element.innerHTML = '';\n",
              "          dataTable['output_type'] = 'display_data';\n",
              "          await google.colab.output.renderOutput(dataTable, element);\n",
              "          const docLink = document.createElement('div');\n",
              "          docLink.innerHTML = docLinkHtml;\n",
              "          element.appendChild(docLink);\n",
              "        }\n",
              "      </script>\n",
              "    </div>\n",
              "  </div>\n",
              "  "
            ]
          },
          "metadata": {},
          "execution_count": 9
        }
      ]
    },
    {
      "cell_type": "code",
      "source": [
        "sample['항목코드'] = sample.apply(lambda x: 'ifrs_Revenue' if x['항목명'] == '매출액' else x['항목코드'], axis=1)\n",
        "sample['항목코드'] = sample.apply(lambda x: 'ifrs_GrossProfit' if x['항목명'] == '매출총이익' else x['항목코드'], axis=1)\n",
        "sample['항목코드'] = sample.apply(lambda x: 'dart_OperatingIncomeLoss' if x['항목명'] == '영업이익' else x['항목코드'], axis=1)\n",
        "sample['항목코드'] = sample.apply(lambda x: 'ifrs_ProfitLoss' if x['항목명'] == '당기순이익' else x['항목코드'], axis=1)\n",
        "sample['항목코드'] = sample.apply(lambda x: 'ifrs_ProfitLossAttributableToNoncontrollingInterests' if '비지배' in x['항목명'] else x['항목코드'], axis=1)\n",
        "sample['항목코드'] = sample.apply(lambda x: 'dart_DepreciationExpense' if x['항목명'] == '감가상각비' else x['항목코드'], axis=1)\n",
        "sample['항목코드'] = sample.apply(lambda x: 'ifrs_ProfitLossBeforeTax' if x['항목명'] == '법인세차감전순이익' else x['항목코드'], axis=1)"
      ],
      "metadata": {
        "id": "4eUuH7Nf6lnu"
      },
      "execution_count": 35,
      "outputs": []
    },
    {
      "cell_type": "code",
      "source": [
        "sample['항목명'] = sample.apply(lambda x: '당기순이익(비지배)' if 'ProfitLossAttributableToNoncontrollingInterests' in x['항목코드'] else x['항목명'], axis=1)"
      ],
      "metadata": {
        "id": "c5tuhVqVjOmq"
      },
      "execution_count": 36,
      "outputs": []
    },
    {
      "cell_type": "code",
      "source": [
        "sample = sample.drop_duplicates()"
      ],
      "metadata": {
        "id": "TPwBZXkK7VLd"
      },
      "execution_count": 37,
      "outputs": []
    },
    {
      "cell_type": "code",
      "source": [
        "sample['항목명'].unique()"
      ],
      "metadata": {
        "colab": {
          "base_uri": "https://localhost:8080/"
        },
        "id": "C6LTvwZM7oDO",
        "outputId": "f152e59d-3b40-4668-aec9-2c3f1263e4bf"
      },
      "execution_count": 46,
      "outputs": [
        {
          "output_type": "execute_result",
          "data": {
            "text/plain": [
              "array(['매출액', '매출총이익', '영업이익', '당기순이익', '당기순이익(비지배)', '감가상각비',\n",
              "       '법인세차감전순이익'], dtype=object)"
            ]
          },
          "metadata": {},
          "execution_count": 46
        }
      ]
    },
    {
      "cell_type": "code",
      "source": [
        "sample['항목코드'].unique()"
      ],
      "metadata": {
        "colab": {
          "base_uri": "https://localhost:8080/"
        },
        "id": "fqcysWoC7WdZ",
        "outputId": "c095588a-9c50-4db6-adfd-c1761863148b"
      },
      "execution_count": 45,
      "outputs": [
        {
          "output_type": "execute_result",
          "data": {
            "text/plain": [
              "array(['ifrs_Revenue', 'ifrs_GrossProfit', 'dart_OperatingIncomeLoss',\n",
              "       'ifrs_ProfitLoss',\n",
              "       'ifrs_ProfitLossAttributableToNoncontrollingInterests',\n",
              "       'dart_DepreciationExpense', 'ifrs_ProfitLossBeforeTax'],\n",
              "      dtype=object)"
            ]
          },
          "metadata": {},
          "execution_count": 45
        }
      ]
    },
    {
      "cell_type": "code",
      "source": [
        "sample[sample['항목명'] == '당기순이익(비지배)']"
      ],
      "metadata": {
        "colab": {
          "base_uri": "https://localhost:8080/",
          "height": 424
        },
        "id": "skgRsPmqijq7",
        "outputId": "6e67279f-5697-41df-96b4-c3ae7dcc0a0c"
      },
      "execution_count": 44,
      "outputs": [
        {
          "output_type": "execute_result",
          "data": {
            "text/plain": [
              "         종목코드  사업연도   보고서종류      회사명   업종  \\\n",
              "645    001040  2016   사업보고서       CJ  715   \n",
              "646    000120  2016   사업보고서   CJ대한통운  493   \n",
              "647    155660  2016   사업보고서      DSR  139   \n",
              "648    078930  2016   사업보고서       GS  715   \n",
              "649    006360  2016   사업보고서     GS건설  411   \n",
              "...       ...   ...     ...      ...  ...   \n",
              "22812  005380  2016  3분기보고서    현대자동차  301   \n",
              "22813  011760  2016  3분기보고서   현대종합상사  468   \n",
              "22814  008770  2016  3분기보고서     호텔신라  478   \n",
              "22815  064240  2016  3분기보고서     홈캐스트  265   \n",
              "22816  006060  2016  3분기보고서  화승인더스트리  222   \n",
              "\n",
              "                                                    항목코드         항목명  \\\n",
              "645    ifrs_ProfitLossAttributableToNoncontrollingInt...  당기순이익(비지배)   \n",
              "646    ifrs_ProfitLossAttributableToNoncontrollingInt...  당기순이익(비지배)   \n",
              "647    ifrs_ProfitLossAttributableToNoncontrollingInt...  당기순이익(비지배)   \n",
              "648    ifrs_ProfitLossAttributableToNoncontrollingInt...  당기순이익(비지배)   \n",
              "649    ifrs_ProfitLossAttributableToNoncontrollingInt...  당기순이익(비지배)   \n",
              "...                                                  ...         ...   \n",
              "22812  ifrs_ProfitLossAttributableToNoncontrollingInt...  당기순이익(비지배)   \n",
              "22813  ifrs_ProfitLossAttributableToNoncontrollingInt...  당기순이익(비지배)   \n",
              "22814  ifrs_ProfitLossAttributableToNoncontrollingInt...  당기순이익(비지배)   \n",
              "22815  ifrs_ProfitLossAttributableToNoncontrollingInt...  당기순이익(비지배)   \n",
              "22816  ifrs_ProfitLossAttributableToNoncontrollingInt...  당기순이익(비지배)   \n",
              "\n",
              "                    당기  \n",
              "645    346,795,361,000  \n",
              "646     12,418,947,928  \n",
              "647         -2,888,456  \n",
              "648    117,608,000,000  \n",
              "649      5,349,891,573  \n",
              "...                ...  \n",
              "22812  244,388,000,000  \n",
              "22813       96,324,233  \n",
              "22814              NaN  \n",
              "22815              NaN  \n",
              "22816      237,415,248  \n",
              "\n",
              "[3625 rows x 8 columns]"
            ],
            "text/html": [
              "\n",
              "  <div id=\"df-1229c124-bb5d-4788-ac92-b8457fe6d702\">\n",
              "    <div class=\"colab-df-container\">\n",
              "      <div>\n",
              "<style scoped>\n",
              "    .dataframe tbody tr th:only-of-type {\n",
              "        vertical-align: middle;\n",
              "    }\n",
              "\n",
              "    .dataframe tbody tr th {\n",
              "        vertical-align: top;\n",
              "    }\n",
              "\n",
              "    .dataframe thead th {\n",
              "        text-align: right;\n",
              "    }\n",
              "</style>\n",
              "<table border=\"1\" class=\"dataframe\">\n",
              "  <thead>\n",
              "    <tr style=\"text-align: right;\">\n",
              "      <th></th>\n",
              "      <th>종목코드</th>\n",
              "      <th>사업연도</th>\n",
              "      <th>보고서종류</th>\n",
              "      <th>회사명</th>\n",
              "      <th>업종</th>\n",
              "      <th>항목코드</th>\n",
              "      <th>항목명</th>\n",
              "      <th>당기</th>\n",
              "    </tr>\n",
              "  </thead>\n",
              "  <tbody>\n",
              "    <tr>\n",
              "      <th>645</th>\n",
              "      <td>001040</td>\n",
              "      <td>2016</td>\n",
              "      <td>사업보고서</td>\n",
              "      <td>CJ</td>\n",
              "      <td>715</td>\n",
              "      <td>ifrs_ProfitLossAttributableToNoncontrollingInt...</td>\n",
              "      <td>당기순이익(비지배)</td>\n",
              "      <td>346,795,361,000</td>\n",
              "    </tr>\n",
              "    <tr>\n",
              "      <th>646</th>\n",
              "      <td>000120</td>\n",
              "      <td>2016</td>\n",
              "      <td>사업보고서</td>\n",
              "      <td>CJ대한통운</td>\n",
              "      <td>493</td>\n",
              "      <td>ifrs_ProfitLossAttributableToNoncontrollingInt...</td>\n",
              "      <td>당기순이익(비지배)</td>\n",
              "      <td>12,418,947,928</td>\n",
              "    </tr>\n",
              "    <tr>\n",
              "      <th>647</th>\n",
              "      <td>155660</td>\n",
              "      <td>2016</td>\n",
              "      <td>사업보고서</td>\n",
              "      <td>DSR</td>\n",
              "      <td>139</td>\n",
              "      <td>ifrs_ProfitLossAttributableToNoncontrollingInt...</td>\n",
              "      <td>당기순이익(비지배)</td>\n",
              "      <td>-2,888,456</td>\n",
              "    </tr>\n",
              "    <tr>\n",
              "      <th>648</th>\n",
              "      <td>078930</td>\n",
              "      <td>2016</td>\n",
              "      <td>사업보고서</td>\n",
              "      <td>GS</td>\n",
              "      <td>715</td>\n",
              "      <td>ifrs_ProfitLossAttributableToNoncontrollingInt...</td>\n",
              "      <td>당기순이익(비지배)</td>\n",
              "      <td>117,608,000,000</td>\n",
              "    </tr>\n",
              "    <tr>\n",
              "      <th>649</th>\n",
              "      <td>006360</td>\n",
              "      <td>2016</td>\n",
              "      <td>사업보고서</td>\n",
              "      <td>GS건설</td>\n",
              "      <td>411</td>\n",
              "      <td>ifrs_ProfitLossAttributableToNoncontrollingInt...</td>\n",
              "      <td>당기순이익(비지배)</td>\n",
              "      <td>5,349,891,573</td>\n",
              "    </tr>\n",
              "    <tr>\n",
              "      <th>...</th>\n",
              "      <td>...</td>\n",
              "      <td>...</td>\n",
              "      <td>...</td>\n",
              "      <td>...</td>\n",
              "      <td>...</td>\n",
              "      <td>...</td>\n",
              "      <td>...</td>\n",
              "      <td>...</td>\n",
              "    </tr>\n",
              "    <tr>\n",
              "      <th>22812</th>\n",
              "      <td>005380</td>\n",
              "      <td>2016</td>\n",
              "      <td>3분기보고서</td>\n",
              "      <td>현대자동차</td>\n",
              "      <td>301</td>\n",
              "      <td>ifrs_ProfitLossAttributableToNoncontrollingInt...</td>\n",
              "      <td>당기순이익(비지배)</td>\n",
              "      <td>244,388,000,000</td>\n",
              "    </tr>\n",
              "    <tr>\n",
              "      <th>22813</th>\n",
              "      <td>011760</td>\n",
              "      <td>2016</td>\n",
              "      <td>3분기보고서</td>\n",
              "      <td>현대종합상사</td>\n",
              "      <td>468</td>\n",
              "      <td>ifrs_ProfitLossAttributableToNoncontrollingInt...</td>\n",
              "      <td>당기순이익(비지배)</td>\n",
              "      <td>96,324,233</td>\n",
              "    </tr>\n",
              "    <tr>\n",
              "      <th>22814</th>\n",
              "      <td>008770</td>\n",
              "      <td>2016</td>\n",
              "      <td>3분기보고서</td>\n",
              "      <td>호텔신라</td>\n",
              "      <td>478</td>\n",
              "      <td>ifrs_ProfitLossAttributableToNoncontrollingInt...</td>\n",
              "      <td>당기순이익(비지배)</td>\n",
              "      <td>NaN</td>\n",
              "    </tr>\n",
              "    <tr>\n",
              "      <th>22815</th>\n",
              "      <td>064240</td>\n",
              "      <td>2016</td>\n",
              "      <td>3분기보고서</td>\n",
              "      <td>홈캐스트</td>\n",
              "      <td>265</td>\n",
              "      <td>ifrs_ProfitLossAttributableToNoncontrollingInt...</td>\n",
              "      <td>당기순이익(비지배)</td>\n",
              "      <td>NaN</td>\n",
              "    </tr>\n",
              "    <tr>\n",
              "      <th>22816</th>\n",
              "      <td>006060</td>\n",
              "      <td>2016</td>\n",
              "      <td>3분기보고서</td>\n",
              "      <td>화승인더스트리</td>\n",
              "      <td>222</td>\n",
              "      <td>ifrs_ProfitLossAttributableToNoncontrollingInt...</td>\n",
              "      <td>당기순이익(비지배)</td>\n",
              "      <td>237,415,248</td>\n",
              "    </tr>\n",
              "  </tbody>\n",
              "</table>\n",
              "<p>3625 rows × 8 columns</p>\n",
              "</div>\n",
              "      <button class=\"colab-df-convert\" onclick=\"convertToInteractive('df-1229c124-bb5d-4788-ac92-b8457fe6d702')\"\n",
              "              title=\"Convert this dataframe to an interactive table.\"\n",
              "              style=\"display:none;\">\n",
              "        \n",
              "  <svg xmlns=\"http://www.w3.org/2000/svg\" height=\"24px\"viewBox=\"0 0 24 24\"\n",
              "       width=\"24px\">\n",
              "    <path d=\"M0 0h24v24H0V0z\" fill=\"none\"/>\n",
              "    <path d=\"M18.56 5.44l.94 2.06.94-2.06 2.06-.94-2.06-.94-.94-2.06-.94 2.06-2.06.94zm-11 1L8.5 8.5l.94-2.06 2.06-.94-2.06-.94L8.5 2.5l-.94 2.06-2.06.94zm10 10l.94 2.06.94-2.06 2.06-.94-2.06-.94-.94-2.06-.94 2.06-2.06.94z\"/><path d=\"M17.41 7.96l-1.37-1.37c-.4-.4-.92-.59-1.43-.59-.52 0-1.04.2-1.43.59L10.3 9.45l-7.72 7.72c-.78.78-.78 2.05 0 2.83L4 21.41c.39.39.9.59 1.41.59.51 0 1.02-.2 1.41-.59l7.78-7.78 2.81-2.81c.8-.78.8-2.07 0-2.86zM5.41 20L4 18.59l7.72-7.72 1.47 1.35L5.41 20z\"/>\n",
              "  </svg>\n",
              "      </button>\n",
              "      \n",
              "  <style>\n",
              "    .colab-df-container {\n",
              "      display:flex;\n",
              "      flex-wrap:wrap;\n",
              "      gap: 12px;\n",
              "    }\n",
              "\n",
              "    .colab-df-convert {\n",
              "      background-color: #E8F0FE;\n",
              "      border: none;\n",
              "      border-radius: 50%;\n",
              "      cursor: pointer;\n",
              "      display: none;\n",
              "      fill: #1967D2;\n",
              "      height: 32px;\n",
              "      padding: 0 0 0 0;\n",
              "      width: 32px;\n",
              "    }\n",
              "\n",
              "    .colab-df-convert:hover {\n",
              "      background-color: #E2EBFA;\n",
              "      box-shadow: 0px 1px 2px rgba(60, 64, 67, 0.3), 0px 1px 3px 1px rgba(60, 64, 67, 0.15);\n",
              "      fill: #174EA6;\n",
              "    }\n",
              "\n",
              "    [theme=dark] .colab-df-convert {\n",
              "      background-color: #3B4455;\n",
              "      fill: #D2E3FC;\n",
              "    }\n",
              "\n",
              "    [theme=dark] .colab-df-convert:hover {\n",
              "      background-color: #434B5C;\n",
              "      box-shadow: 0px 1px 3px 1px rgba(0, 0, 0, 0.15);\n",
              "      filter: drop-shadow(0px 1px 2px rgba(0, 0, 0, 0.3));\n",
              "      fill: #FFFFFF;\n",
              "    }\n",
              "  </style>\n",
              "\n",
              "      <script>\n",
              "        const buttonEl =\n",
              "          document.querySelector('#df-1229c124-bb5d-4788-ac92-b8457fe6d702 button.colab-df-convert');\n",
              "        buttonEl.style.display =\n",
              "          google.colab.kernel.accessAllowed ? 'block' : 'none';\n",
              "\n",
              "        async function convertToInteractive(key) {\n",
              "          const element = document.querySelector('#df-1229c124-bb5d-4788-ac92-b8457fe6d702');\n",
              "          const dataTable =\n",
              "            await google.colab.kernel.invokeFunction('convertToInteractive',\n",
              "                                                     [key], {});\n",
              "          if (!dataTable) return;\n",
              "\n",
              "          const docLinkHtml = 'Like what you see? Visit the ' +\n",
              "            '<a target=\"_blank\" href=https://colab.research.google.com/notebooks/data_table.ipynb>data table notebook</a>'\n",
              "            + ' to learn more about interactive tables.';\n",
              "          element.innerHTML = '';\n",
              "          dataTable['output_type'] = 'display_data';\n",
              "          await google.colab.output.renderOutput(dataTable, element);\n",
              "          const docLink = document.createElement('div');\n",
              "          docLink.innerHTML = docLinkHtml;\n",
              "          element.appendChild(docLink);\n",
              "        }\n",
              "      </script>\n",
              "    </div>\n",
              "  </div>\n",
              "  "
            ]
          },
          "metadata": {},
          "execution_count": 44
        }
      ]
    },
    {
      "cell_type": "code",
      "source": [
        "손익일괄 = sample"
      ],
      "metadata": {
        "id": "_YDaFRMtqVmj"
      },
      "execution_count": 42,
      "outputs": []
    },
    {
      "cell_type": "markdown",
      "source": [
        "# 저장"
      ],
      "metadata": {
        "id": "z0zezGI1rNLt"
      }
    },
    {
      "cell_type": "code",
      "source": [
        "손익일괄.to_csv('/content/drive/MyDrive/22캡스톤디자인/재무일괄/일괄/손익일괄.csv')"
      ],
      "metadata": {
        "id": "GmaJvPfGqgRa"
      },
      "execution_count": 48,
      "outputs": []
    },
    {
      "cell_type": "code",
      "source": [
        ""
      ],
      "metadata": {
        "id": "UWDZ2xGSq082"
      },
      "execution_count": 18,
      "outputs": []
    }
  ]
}