{
  "nbformat": 4,
  "nbformat_minor": 0,
  "metadata": {
    "colab": {
      "name": "재무일괄.ipynb",
      "provenance": [],
      "collapsed_sections": [],
      "mount_file_id": "1Km2tj0VAkRpPbk6QGaGuTXs4l1dqm9MW",
      "authorship_tag": "ABX9TyPC4SMcwKHp4HQqAV53yLwW",
      "include_colab_link": true
    },
    "kernelspec": {
      "name": "python3",
      "display_name": "Python 3"
    },
    "language_info": {
      "name": "python"
    }
  },
  "cells": [
    {
      "cell_type": "markdown",
      "metadata": {
        "id": "view-in-github",
        "colab_type": "text"
      },
      "source": [
        "<a href=\"https://colab.research.google.com/github/wkd-woo/finance-statements/blob/main/%EC%9E%AC%EB%AC%B4%EC%9D%BC%EA%B4%84.ipynb\" target=\"_parent\"><img src=\"https://colab.research.google.com/assets/colab-badge.svg\" alt=\"Open In Colab\"/></a>"
      ]
    },
    {
      "cell_type": "code",
      "source": [
        "!pip install -U finance-datareader"
      ],
      "metadata": {
        "id": "20iSJ6Uao9Kb",
        "colab": {
          "base_uri": "https://localhost:8080/"
        },
        "outputId": "2f19e830-e44e-4ca4-bade-158233f24997"
      },
      "execution_count": 1,
      "outputs": [
        {
          "output_type": "stream",
          "name": "stdout",
          "text": [
            "Collecting finance-datareader\n",
            "  Downloading finance_datareader-0.9.33-py3-none-any.whl (48 kB)\n",
            "\u001b[?25l\r\u001b[K     |██████▊                         | 10 kB 24.8 MB/s eta 0:00:01\r\u001b[K     |█████████████▍                  | 20 kB 16.1 MB/s eta 0:00:01\r\u001b[K     |████████████████████▏           | 30 kB 11.6 MB/s eta 0:00:01\r\u001b[K     |██████████████████████████▉     | 40 kB 9.6 MB/s eta 0:00:01\r\u001b[K     |████████████████████████████████| 48 kB 2.5 MB/s \n",
            "\u001b[?25hRequirement already satisfied: tqdm in /usr/local/lib/python3.7/dist-packages (from finance-datareader) (4.63.0)\n",
            "Requirement already satisfied: requests>=2.3.0 in /usr/local/lib/python3.7/dist-packages (from finance-datareader) (2.23.0)\n",
            "Requirement already satisfied: pandas>=0.19.2 in /usr/local/lib/python3.7/dist-packages (from finance-datareader) (1.3.5)\n",
            "Collecting requests-file\n",
            "  Downloading requests_file-1.5.1-py2.py3-none-any.whl (3.7 kB)\n",
            "Requirement already satisfied: lxml in /usr/local/lib/python3.7/dist-packages (from finance-datareader) (4.2.6)\n",
            "Requirement already satisfied: python-dateutil>=2.7.3 in /usr/local/lib/python3.7/dist-packages (from pandas>=0.19.2->finance-datareader) (2.8.2)\n",
            "Requirement already satisfied: numpy>=1.17.3 in /usr/local/lib/python3.7/dist-packages (from pandas>=0.19.2->finance-datareader) (1.21.5)\n",
            "Requirement already satisfied: pytz>=2017.3 in /usr/local/lib/python3.7/dist-packages (from pandas>=0.19.2->finance-datareader) (2018.9)\n",
            "Requirement already satisfied: six>=1.5 in /usr/local/lib/python3.7/dist-packages (from python-dateutil>=2.7.3->pandas>=0.19.2->finance-datareader) (1.15.0)\n",
            "Requirement already satisfied: idna<3,>=2.5 in /usr/local/lib/python3.7/dist-packages (from requests>=2.3.0->finance-datareader) (2.10)\n",
            "Requirement already satisfied: urllib3!=1.25.0,!=1.25.1,<1.26,>=1.21.1 in /usr/local/lib/python3.7/dist-packages (from requests>=2.3.0->finance-datareader) (1.24.3)\n",
            "Requirement already satisfied: certifi>=2017.4.17 in /usr/local/lib/python3.7/dist-packages (from requests>=2.3.0->finance-datareader) (2021.10.8)\n",
            "Requirement already satisfied: chardet<4,>=3.0.2 in /usr/local/lib/python3.7/dist-packages (from requests>=2.3.0->finance-datareader) (3.0.4)\n",
            "Installing collected packages: requests-file, finance-datareader\n",
            "Successfully installed finance-datareader-0.9.33 requests-file-1.5.1\n"
          ]
        }
      ]
    },
    {
      "cell_type": "code",
      "execution_count": 2,
      "metadata": {
        "id": "Apxg6vyi57eK"
      },
      "outputs": [],
      "source": [
        "import pandas as pd\n",
        "import os\n",
        "from tqdm import tqdm\n",
        "import FinanceDataReader as fdr"
      ]
    },
    {
      "cell_type": "markdown",
      "source": [
        "# 파일별로 분류"
      ],
      "metadata": {
        "id": "iD13D-F14inJ"
      }
    },
    {
      "cell_type": "code",
      "source": [
        "import glob\n",
        "\n",
        "재무상태표 = [] # _01_\n",
        "손익계산서 = [] # _02_\n",
        "포괄손익계산서 = [] # _03_\n",
        "현금흐름표 = [] # _04_\n",
        "자본변동표 = [] #_05_\n",
        "\n",
        "\n",
        "for name in glob.glob('/content/drive/MyDrive/22캡스톤디자인/재무일괄/*.txt'):\n",
        "  if '_01_' in name:\n",
        "    재무상태표.append(name)\n",
        "  elif '_02_' in name:\n",
        "    손익계산서.append(name)\n",
        "  elif '_03_' in name:\n",
        "    포괄손익계산서.append(name)\n",
        "  elif '_04_' in name:\n",
        "    현금흐름표.append(name)\n",
        "  elif '_05_' in name:\n",
        "    자본변동표.append(name)"
      ],
      "metadata": {
        "id": "bDQfcVt-YC5d"
      },
      "execution_count": 3,
      "outputs": []
    },
    {
      "cell_type": "code",
      "source": [
        "sample = pd.DataFrame(columns=['종목코드','사업연도', '보고서종류', '회사명', '업종', '항목코드','항목명', '당기'])"
      ],
      "metadata": {
        "id": "1Et07DYST0Ft"
      },
      "execution_count": 6,
      "outputs": []
    },
    {
      "cell_type": "markdown",
      "source": [
        "# 데이터 추출"
      ],
      "metadata": {
        "id": "tQRxQwIyr4CA"
      }
    },
    {
      "cell_type": "code",
      "source": [
        "for path in tqdm(재무상태표):\n",
        "  df = pd.read_csv(path, delimiter = '\\t', encoding='cp949')\n",
        "\n",
        "  당기 = ''\n",
        "  if df['보고서종류'][0] == '1분기보고서':\n",
        "    당기 = '당기 1분기말' \n",
        "  elif df['보고서종류'][0] == '반기보고서':\n",
        "    당기 = '당기 반기말' \n",
        "  elif df['보고서종류'][0] == '3분기보고서':\n",
        "    당기 = '당기 3분기말' \n",
        "  elif df['보고서종류'][0] == '사업보고서':\n",
        "    당기 = '당기' \n",
        "\n",
        "  df['사업연도'] = path[52:56] # 사업연도 컬럼 설정 - 파일명에서 가져온다\n",
        "  df['항목명'] = df['항목명'].str.strip() # 항목명 컬럼 문자열 전처리\n",
        "  df['항목코드'] = df['항목코드'].str.strip() # 항목코드 컬럼 문자열 전처리\n",
        "\n",
        "  df = df[['종목코드','사업연도', '보고서종류', '회사명', '업종', '항목코드','항목명', 당기]]\n",
        "\n",
        "  전체종목 = len(df['종목코드'].unique())\n",
        "\n",
        "  # 자산총계(ifrs_Assets)\n",
        "  자산총계 = df[(df['항목코드'] == 'ifrs_Assets') | (df['항목코드'] == 'ifrs-full_Assets') | (df['항목명'].isin(['자산 총계', '자산총계']))]\n",
        "  자산총계.rename(columns={당기:\"당기\"}, inplace=True)\n",
        "  자산총계.drop_duplicates(['종목코드','사업연도','보고서종류','항목명'])\n",
        "  sample = sample.append(자산총계, sort=False, ignore_index=True)\n",
        "\n",
        "  # 자본총계(ifrs_Equity)\n",
        "  자본총계 = df[(df['항목코드'] == 'ifrs_Equity') | (df['항목코드'] == 'ifrs-full_Equity') | (df['항목명'].isin(['자본총계','자본 총계']))]\n",
        "  자본총계.rename(columns={당기:\"당기\"}, inplace=True)\n",
        "  자본총계.drop_duplicates(['종목코드','사업연도','보고서종류','항목명'])\n",
        "  sample = sample.append(자본총계, sort=False, ignore_index=True)\n",
        "\n",
        "  # 부채총계(ifrs_Liabilities)\n",
        "  부채총계 = df[(df['항목코드'] == 'ifrs_Liabilities') | (df['항목코드'] == 'ifrs-full_Liabilities') | (df['항목명'].isin(['부채총계','부채 총계']))]\n",
        "  부채총계.rename(columns={당기:\"당기\"}, inplace=True)\n",
        "  부채총계.drop_duplicates(['종목코드','사업연도','보고서종류','항목명'])\n",
        "  sample = sample.append(부채총계, sort=False, ignore_index=True)\n",
        "\n",
        "  # 유동자산(ifrs_CurrentAssets)\n",
        "  유동자산 = df[(df['항목코드'] == 'ifrs_CurrentAssets') | (df['항목코드'] == 'ifrs-full_CurrentAssets') | (df['항목명'].isin(['유동자산', '유동 자산']))]\n",
        "  유동자산.rename(columns={당기:\"당기\"}, inplace=True)\n",
        "  유동자산.drop_duplicates(['종목코드','사업연도','보고서종류','항목명'])\n",
        "  sample = sample.append(유동자산, sort=False, ignore_index=True)\n",
        "\n",
        "  # 현금 및 현금성자산(ifrs_CashAndCashEquivalents)\n",
        "  현금성자산 = df[(df['항목코드'] == 'ifrs_CashAndCashEquivalents') | (df['항목코드'] == 'ifrs-full_CashAndCashEquivalents') \n",
        "  | df['항목명'].isin(['현금', '현금성자산', '현금 및 현금성자산', '현금및현금성자산']) | df['항목명'].str.contains('현금및현금성자산|현금 및 현금성자산')]\n",
        "  현금성자산.rename(columns={당기:\"당기\"}, inplace=True)\n",
        "  현금성자산.drop_duplicates(['종목코드','사업연도','보고서종류','항목명'])\n",
        "  sample = sample.append(현금성자산, sort=False, ignore_index=True)\n"
      ],
      "metadata": {
        "id": "C2kdYqo_5-sO",
        "colab": {
          "base_uri": "https://localhost:8080/"
        },
        "outputId": "148e6dcc-d8d3-4f1f-9eca-26319c7dd817"
      },
      "execution_count": 7,
      "outputs": [
        {
          "output_type": "stream",
          "name": "stderr",
          "text": [
            "  0%|          | 0/24 [00:00<?, ?it/s]/usr/local/lib/python3.7/dist-packages/pandas/core/frame.py:5047: SettingWithCopyWarning: \n",
            "A value is trying to be set on a copy of a slice from a DataFrame\n",
            "\n",
            "See the caveats in the documentation: https://pandas.pydata.org/pandas-docs/stable/user_guide/indexing.html#returning-a-view-versus-a-copy\n",
            "  errors=errors,\n",
            " 21%|██        | 5/24 [00:05<00:20,  1.08s/it]/usr/local/lib/python3.7/dist-packages/IPython/core/interactiveshell.py:2882: DtypeWarning: Columns (14) have mixed types.Specify dtype option on import or set low_memory=False.\n",
            "  exec(code_obj, self.user_global_ns, self.user_ns)\n",
            "100%|██████████| 24/24 [00:28<00:00,  1.20s/it]\n"
          ]
        }
      ]
    },
    {
      "cell_type": "markdown",
      "source": [
        "# 데이터 전처리"
      ],
      "metadata": {
        "id": "onypj7dluXBW"
      }
    },
    {
      "cell_type": "code",
      "source": [
        "sample['종목코드'] = sample['종목코드'].apply(lambda x:x[1:-1])"
      ],
      "metadata": {
        "id": "3dR_KyuCuYAp"
      },
      "execution_count": 10,
      "outputs": []
    },
    {
      "cell_type": "code",
      "source": [
        "sample['항목명'] = sample.apply(lambda x: '자산총계' if x['항목코드'] == 'ifrs_Assets' else x['항목명'], axis=1)\n",
        "sample['항목명'] = sample.apply(lambda x: '자산총계' if x['항목코드'] == 'ifrs-full_Assets' else x['항목명'], axis=1)\n",
        "sample['항목명'] = sample.apply(lambda x: '부채총계' if x['항목코드'] == 'ifrs_Liabilities' else x['항목명'], axis=1)\n",
        "sample['항목명'] = sample.apply(lambda x: '부채총계' if x['항목코드'] == 'ifrs-full_Liabilities' else x['항목명'], axis=1)\n",
        "sample['항목명'] = sample.apply(lambda x: '자본총계' if x['항목코드'] == 'ifrs_Equity' else x['항목명'], axis=1)\n",
        "sample['항목명'] = sample.apply(lambda x: '자본총계' if x['항목코드'] == 'ifrs-full_Equity' else x['항목명'], axis=1)\n",
        "sample['항목명'] = sample.apply(lambda x: '유동자산' if x['항목코드'] == 'ifrs_CurrentAssets' else x['항목명'], axis=1)\n",
        "sample['항목명'] = sample.apply(lambda x: '유동자산' if x['항목코드'] == 'ifrs-full_CurrentAssets' else x['항목명'], axis=1)\n",
        "sample['항목명'] = sample.apply(lambda x: '현금및현금성자산' if x['항목코드'] == 'ifrs_CashAndCashEquivalents' else x['항목명'], axis=1)\n",
        "sample['항목명'] = sample.apply(lambda x: '현금및현금성자산' if x['항목코드'] == 'ifrs-full_CashAndCashEquivalents' else x['항목명'], axis=1)\n",
        "\n",
        "sample['항목명'] = sample.apply(lambda x: '자산총계' if x['항목명'] == '자산 총계' else x['항목명'], axis=1)\n",
        "sample['항목명'] = sample.apply(lambda x: '자본총계' if x['항목명'] == '자본 총계' else x['항목명'], axis=1)\n",
        "sample['항목명'] = sample.apply(lambda x: '부채총계' if x['항목명'] == '부채 총계' else x['항목명'], axis=1)\n",
        "sample['항목명'] = sample.apply(lambda x: '유동자산' if x['항목명'] == '유동 자산' else x['항목명'], axis=1)\n",
        "sample['항목명'] = sample.apply(lambda x: '현금및현금성자산' if x['항목명'] == '현금' else x['항목명'], axis=1)\n",
        "sample['항목명'] = sample.apply(lambda x: '현금및현금성자산' if x['항목명'] == '현금성자산' else x['항목명'], axis=1)\n",
        "sample['항목명'] = sample.apply(lambda x: '현금및현금성자산' if x['항목명'] == '기타현금및현금성자산' else x['항목명'], axis=1)\n",
        "sample['항목명'] = sample.apply(lambda x: '현금및현금성자산' if x['항목명'] == '현금 및 현금성자산' else x['항목명'], axis=1)\n",
        "sample['항목명'] = sample.apply(lambda x: '현금및현금성자산' if x['항목명'] == '현금및현금성자산-증권업' else x['항목명'], axis=1)\n",
        "\n",
        "sample"
      ],
      "metadata": {
        "colab": {
          "base_uri": "https://localhost:8080/",
          "height": 424
        },
        "id": "oqa8JZuRuhhx",
        "outputId": "cb0a7153-b509-473a-dde8-a815a17751f8"
      },
      "execution_count": 14,
      "outputs": [
        {
          "output_type": "execute_result",
          "data": {
            "text/plain": [
              "          종목코드  사업연도   보고서종류     회사명   업종                         항목코드  \\\n",
              "0       060310  2021  3분기보고서      3S  262             ifrs-full_Assets   \n",
              "1       095570  2021  3분기보고서  AJ네트웍스  763             ifrs-full_Assets   \n",
              "2       006840  2021  3분기보고서   AK홀딩스  649             ifrs-full_Assets   \n",
              "3       054620  2021  3분기보고서  APS홀딩스  649             ifrs-full_Assets   \n",
              "4       265520  2021  3분기보고서   AP시스템  292             ifrs-full_Assets   \n",
              "...        ...   ...     ...     ...  ...                          ...   \n",
              "192417  069260  2016   반기보고서     휴켐스  204  ifrs_CashAndCashEquivalents   \n",
              "192418  010240  2016   반기보고서      흥국  292  ifrs_CashAndCashEquivalents   \n",
              "192419  189980  2016   반기보고서  흥국에프엔비  112  ifrs_CashAndCashEquivalents   \n",
              "192420  003280  2016   반기보고서    흥아해운  501  ifrs_CashAndCashEquivalents   \n",
              "192421  037440  2016   반기보고서      희림  721  ifrs_CashAndCashEquivalents   \n",
              "\n",
              "             항목명                 당기  \n",
              "0           자산총계     65,694,406,823  \n",
              "1           자산총계  1,357,720,740,483  \n",
              "2           자산총계  4,361,681,811,190  \n",
              "3           자산총계    287,247,655,273  \n",
              "4           자산총계    445,457,356,474  \n",
              "...          ...                ...  \n",
              "192417  현금및현금성자산     38,326,395,822  \n",
              "192418  현금및현금성자산      2,655,098,424  \n",
              "192419  현금및현금성자산      1,107,330,416  \n",
              "192420  현금및현금성자산     20,664,686,060  \n",
              "192421  현금및현금성자산      8,164,503,355  \n",
              "\n",
              "[192422 rows x 8 columns]"
            ],
            "text/html": [
              "\n",
              "  <div id=\"df-b7afc931-f9db-4c4d-98cd-72d60b108e8d\">\n",
              "    <div class=\"colab-df-container\">\n",
              "      <div>\n",
              "<style scoped>\n",
              "    .dataframe tbody tr th:only-of-type {\n",
              "        vertical-align: middle;\n",
              "    }\n",
              "\n",
              "    .dataframe tbody tr th {\n",
              "        vertical-align: top;\n",
              "    }\n",
              "\n",
              "    .dataframe thead th {\n",
              "        text-align: right;\n",
              "    }\n",
              "</style>\n",
              "<table border=\"1\" class=\"dataframe\">\n",
              "  <thead>\n",
              "    <tr style=\"text-align: right;\">\n",
              "      <th></th>\n",
              "      <th>종목코드</th>\n",
              "      <th>사업연도</th>\n",
              "      <th>보고서종류</th>\n",
              "      <th>회사명</th>\n",
              "      <th>업종</th>\n",
              "      <th>항목코드</th>\n",
              "      <th>항목명</th>\n",
              "      <th>당기</th>\n",
              "    </tr>\n",
              "  </thead>\n",
              "  <tbody>\n",
              "    <tr>\n",
              "      <th>0</th>\n",
              "      <td>060310</td>\n",
              "      <td>2021</td>\n",
              "      <td>3분기보고서</td>\n",
              "      <td>3S</td>\n",
              "      <td>262</td>\n",
              "      <td>ifrs-full_Assets</td>\n",
              "      <td>자산총계</td>\n",
              "      <td>65,694,406,823</td>\n",
              "    </tr>\n",
              "    <tr>\n",
              "      <th>1</th>\n",
              "      <td>095570</td>\n",
              "      <td>2021</td>\n",
              "      <td>3분기보고서</td>\n",
              "      <td>AJ네트웍스</td>\n",
              "      <td>763</td>\n",
              "      <td>ifrs-full_Assets</td>\n",
              "      <td>자산총계</td>\n",
              "      <td>1,357,720,740,483</td>\n",
              "    </tr>\n",
              "    <tr>\n",
              "      <th>2</th>\n",
              "      <td>006840</td>\n",
              "      <td>2021</td>\n",
              "      <td>3분기보고서</td>\n",
              "      <td>AK홀딩스</td>\n",
              "      <td>649</td>\n",
              "      <td>ifrs-full_Assets</td>\n",
              "      <td>자산총계</td>\n",
              "      <td>4,361,681,811,190</td>\n",
              "    </tr>\n",
              "    <tr>\n",
              "      <th>3</th>\n",
              "      <td>054620</td>\n",
              "      <td>2021</td>\n",
              "      <td>3분기보고서</td>\n",
              "      <td>APS홀딩스</td>\n",
              "      <td>649</td>\n",
              "      <td>ifrs-full_Assets</td>\n",
              "      <td>자산총계</td>\n",
              "      <td>287,247,655,273</td>\n",
              "    </tr>\n",
              "    <tr>\n",
              "      <th>4</th>\n",
              "      <td>265520</td>\n",
              "      <td>2021</td>\n",
              "      <td>3분기보고서</td>\n",
              "      <td>AP시스템</td>\n",
              "      <td>292</td>\n",
              "      <td>ifrs-full_Assets</td>\n",
              "      <td>자산총계</td>\n",
              "      <td>445,457,356,474</td>\n",
              "    </tr>\n",
              "    <tr>\n",
              "      <th>...</th>\n",
              "      <td>...</td>\n",
              "      <td>...</td>\n",
              "      <td>...</td>\n",
              "      <td>...</td>\n",
              "      <td>...</td>\n",
              "      <td>...</td>\n",
              "      <td>...</td>\n",
              "      <td>...</td>\n",
              "    </tr>\n",
              "    <tr>\n",
              "      <th>192417</th>\n",
              "      <td>069260</td>\n",
              "      <td>2016</td>\n",
              "      <td>반기보고서</td>\n",
              "      <td>휴켐스</td>\n",
              "      <td>204</td>\n",
              "      <td>ifrs_CashAndCashEquivalents</td>\n",
              "      <td>현금및현금성자산</td>\n",
              "      <td>38,326,395,822</td>\n",
              "    </tr>\n",
              "    <tr>\n",
              "      <th>192418</th>\n",
              "      <td>010240</td>\n",
              "      <td>2016</td>\n",
              "      <td>반기보고서</td>\n",
              "      <td>흥국</td>\n",
              "      <td>292</td>\n",
              "      <td>ifrs_CashAndCashEquivalents</td>\n",
              "      <td>현금및현금성자산</td>\n",
              "      <td>2,655,098,424</td>\n",
              "    </tr>\n",
              "    <tr>\n",
              "      <th>192419</th>\n",
              "      <td>189980</td>\n",
              "      <td>2016</td>\n",
              "      <td>반기보고서</td>\n",
              "      <td>흥국에프엔비</td>\n",
              "      <td>112</td>\n",
              "      <td>ifrs_CashAndCashEquivalents</td>\n",
              "      <td>현금및현금성자산</td>\n",
              "      <td>1,107,330,416</td>\n",
              "    </tr>\n",
              "    <tr>\n",
              "      <th>192420</th>\n",
              "      <td>003280</td>\n",
              "      <td>2016</td>\n",
              "      <td>반기보고서</td>\n",
              "      <td>흥아해운</td>\n",
              "      <td>501</td>\n",
              "      <td>ifrs_CashAndCashEquivalents</td>\n",
              "      <td>현금및현금성자산</td>\n",
              "      <td>20,664,686,060</td>\n",
              "    </tr>\n",
              "    <tr>\n",
              "      <th>192421</th>\n",
              "      <td>037440</td>\n",
              "      <td>2016</td>\n",
              "      <td>반기보고서</td>\n",
              "      <td>희림</td>\n",
              "      <td>721</td>\n",
              "      <td>ifrs_CashAndCashEquivalents</td>\n",
              "      <td>현금및현금성자산</td>\n",
              "      <td>8,164,503,355</td>\n",
              "    </tr>\n",
              "  </tbody>\n",
              "</table>\n",
              "<p>192422 rows × 8 columns</p>\n",
              "</div>\n",
              "      <button class=\"colab-df-convert\" onclick=\"convertToInteractive('df-b7afc931-f9db-4c4d-98cd-72d60b108e8d')\"\n",
              "              title=\"Convert this dataframe to an interactive table.\"\n",
              "              style=\"display:none;\">\n",
              "        \n",
              "  <svg xmlns=\"http://www.w3.org/2000/svg\" height=\"24px\"viewBox=\"0 0 24 24\"\n",
              "       width=\"24px\">\n",
              "    <path d=\"M0 0h24v24H0V0z\" fill=\"none\"/>\n",
              "    <path d=\"M18.56 5.44l.94 2.06.94-2.06 2.06-.94-2.06-.94-.94-2.06-.94 2.06-2.06.94zm-11 1L8.5 8.5l.94-2.06 2.06-.94-2.06-.94L8.5 2.5l-.94 2.06-2.06.94zm10 10l.94 2.06.94-2.06 2.06-.94-2.06-.94-.94-2.06-.94 2.06-2.06.94z\"/><path d=\"M17.41 7.96l-1.37-1.37c-.4-.4-.92-.59-1.43-.59-.52 0-1.04.2-1.43.59L10.3 9.45l-7.72 7.72c-.78.78-.78 2.05 0 2.83L4 21.41c.39.39.9.59 1.41.59.51 0 1.02-.2 1.41-.59l7.78-7.78 2.81-2.81c.8-.78.8-2.07 0-2.86zM5.41 20L4 18.59l7.72-7.72 1.47 1.35L5.41 20z\"/>\n",
              "  </svg>\n",
              "      </button>\n",
              "      \n",
              "  <style>\n",
              "    .colab-df-container {\n",
              "      display:flex;\n",
              "      flex-wrap:wrap;\n",
              "      gap: 12px;\n",
              "    }\n",
              "\n",
              "    .colab-df-convert {\n",
              "      background-color: #E8F0FE;\n",
              "      border: none;\n",
              "      border-radius: 50%;\n",
              "      cursor: pointer;\n",
              "      display: none;\n",
              "      fill: #1967D2;\n",
              "      height: 32px;\n",
              "      padding: 0 0 0 0;\n",
              "      width: 32px;\n",
              "    }\n",
              "\n",
              "    .colab-df-convert:hover {\n",
              "      background-color: #E2EBFA;\n",
              "      box-shadow: 0px 1px 2px rgba(60, 64, 67, 0.3), 0px 1px 3px 1px rgba(60, 64, 67, 0.15);\n",
              "      fill: #174EA6;\n",
              "    }\n",
              "\n",
              "    [theme=dark] .colab-df-convert {\n",
              "      background-color: #3B4455;\n",
              "      fill: #D2E3FC;\n",
              "    }\n",
              "\n",
              "    [theme=dark] .colab-df-convert:hover {\n",
              "      background-color: #434B5C;\n",
              "      box-shadow: 0px 1px 3px 1px rgba(0, 0, 0, 0.15);\n",
              "      filter: drop-shadow(0px 1px 2px rgba(0, 0, 0, 0.3));\n",
              "      fill: #FFFFFF;\n",
              "    }\n",
              "  </style>\n",
              "\n",
              "      <script>\n",
              "        const buttonEl =\n",
              "          document.querySelector('#df-b7afc931-f9db-4c4d-98cd-72d60b108e8d button.colab-df-convert');\n",
              "        buttonEl.style.display =\n",
              "          google.colab.kernel.accessAllowed ? 'block' : 'none';\n",
              "\n",
              "        async function convertToInteractive(key) {\n",
              "          const element = document.querySelector('#df-b7afc931-f9db-4c4d-98cd-72d60b108e8d');\n",
              "          const dataTable =\n",
              "            await google.colab.kernel.invokeFunction('convertToInteractive',\n",
              "                                                     [key], {});\n",
              "          if (!dataTable) return;\n",
              "\n",
              "          const docLinkHtml = 'Like what you see? Visit the ' +\n",
              "            '<a target=\"_blank\" href=https://colab.research.google.com/notebooks/data_table.ipynb>data table notebook</a>'\n",
              "            + ' to learn more about interactive tables.';\n",
              "          element.innerHTML = '';\n",
              "          dataTable['output_type'] = 'display_data';\n",
              "          await google.colab.output.renderOutput(dataTable, element);\n",
              "          const docLink = document.createElement('div');\n",
              "          docLink.innerHTML = docLinkHtml;\n",
              "          element.appendChild(docLink);\n",
              "        }\n",
              "      </script>\n",
              "    </div>\n",
              "  </div>\n",
              "  "
            ]
          },
          "metadata": {},
          "execution_count": 14
        }
      ]
    },
    {
      "cell_type": "code",
      "source": [
        "sample['항목명'].unique()"
      ],
      "metadata": {
        "colab": {
          "base_uri": "https://localhost:8080/"
        },
        "id": "XaP2eFjsvEqM",
        "outputId": "09c1db4c-d80d-42be-876f-a12cc737989a"
      },
      "execution_count": 16,
      "outputs": [
        {
          "output_type": "execute_result",
          "data": {
            "text/plain": [
              "array(['자산총계', '자본총계', '부채총계', '유동자산', '현금및현금성자산'], dtype=object)"
            ]
          },
          "metadata": {},
          "execution_count": 16
        }
      ]
    },
    {
      "cell_type": "code",
      "source": [
        "sample['항목코드'].unique()"
      ],
      "metadata": {
        "colab": {
          "base_uri": "https://localhost:8080/"
        },
        "id": "klqoDLtcwK4H",
        "outputId": "d660f20d-e74d-4160-d687-877c5b6c571b"
      },
      "execution_count": 17,
      "outputs": [
        {
          "output_type": "execute_result",
          "data": {
            "text/plain": [
              "array(['ifrs-full_Assets',\n",
              "       'entity00138242_udf_BS_2018115102250529_StatementOfFinancialPositionAbstract',\n",
              "       'ifrs-full_Equity',\n",
              "       'entity00222532_udf_BS_2018425201848316_StatementOfFinancialPositionAbstract',\n",
              "       'entity00545716_udf_BS_2021111611252554_StatementOfFinancialPositionAbstract',\n",
              "       'entity00136271_udf_BS_20188817541842_StatementOfFinancialPositionAbstract',\n",
              "       'entity00138242_udf_BS_2018115122023385_StatementOfFinancialPositionAbstract',\n",
              "       'entity00188089_udf_BS_2017111113217301_StatementOfFinancialPositionAbstract',\n",
              "       'entity00428251_udf_BS_20195814529840_StatementOfFinancialPositionAbstract',\n",
              "       'ifrs-full_Liabilities',\n",
              "       'entity00545716_udf_BS_2021111611286128_StatementOfFinancialPositionAbstract',\n",
              "       'ifrs-full_CurrentAssets', 'ifrs-full_CashAndCashEquivalents',\n",
              "       'ifrs-full_Cash', 'ifrs-full_CashEquivalents',\n",
              "       'entity00602136_udf_BS_20211115143929453_CurrentAssets',\n",
              "       'entity00117708_udf_BS_2020313115917116_udf_BS_2020313115910112_AssetsAbstract',\n",
              "       'entity00913689_udf_BS_20171111225555201_CurrentAssets',\n",
              "       'entity00258801_udf_BS_2020512145332728_udf_BS_202051214032895_AssetsAbstract',\n",
              "       'entity00346407_udf_BS_2018416164340480_CashAndCashEquivalents',\n",
              "       'entity00684714_udf_BS_20171024205415996_udf_BS_20171024205223796_CurrentAssets',\n",
              "       'entity00160588_udf_BS_20171113202010694_udf_BS_20171113201812326_AssetsAbstract',\n",
              "       'ifrs_Assets',\n",
              "       'entity00632304_udf_BS_2013325173927154_StatementOfFinancialPositionAbstract',\n",
              "       'entity00120562_udf_BS_20138910391246_StatementOfFinancialPositionAbstract',\n",
              "       'entity00126308_udf_BS_201152920245946_StatementOfFinancialPositionAbstract',\n",
              "       'entity00300405_udf_BS_20163315650101_StatementOfFinancialPositionAbstract',\n",
              "       'entity00526696_udf_BS_2013522183339953_AssetsAbstract',\n",
              "       'entity00361169_udf_BS_201451320532358_udf_BS_201451320056207_StatementOfFinancialPositionAbstract',\n",
              "       'entity00306454_udf_BS_2014328191236116_StatementOfFinancialPositionAbstract',\n",
              "       'entity00161693_udf_BS_2015318112454167_AssetsAbstract',\n",
              "       'entity00300548_udf_BS_2014322121322670_StatementOfFinancialPositionAbstract',\n",
              "       'ifrs_Equity',\n",
              "       'entity00110431_udf_BS_20158139143157_StatementOfFinancialPositionAbstract',\n",
              "       'entity00475718_udf_BS_201232211528109_StatementOfFinancialPositionAbstract',\n",
              "       'entity00191472_udf_BS_2013320105913806_StatementOfFinancialPositionAbstract',\n",
              "       'entity00120076_udf_BS_201181820109765_StatementOfFinancialPositionAbstract',\n",
              "       'entity00117230_udf_BS_2012316113651158_StatementOfFinancialPositionAbstract',\n",
              "       'entity00118026_udf_BS_2013319223445997_StatementOfFinancialPositionAbstract',\n",
              "       'entity00608699_udf_BS_2014325172140841_StatementOfFinancialPositionAbstract',\n",
              "       'entity00120562_udf_BS_20138911255402_StatementOfFinancialPositionAbstract',\n",
              "       'entity00126308_udf_BS_2011529165658687_StatementOfFinancialPositionAbstract',\n",
              "       'entity00130587_udf_BS_2011827114643728_StatementOfFinancialPositionAbstract',\n",
              "       'entity00453488_udf_BS_201541024228_EquityAbstract',\n",
              "       'entity00140061_udf_BS_20123271532812_StatementOfFinancialPositionAbstract',\n",
              "       'entity00300405_udf_BS_20163315950323_StatementOfFinancialPositionAbstract',\n",
              "       'entity00135050_udf_BS_2012329204648421_StatementOfFinancialPositionAbstract',\n",
              "       'entity00540447_udf_BS_20118231152631_StatementOfFinancialPositionAbstract',\n",
              "       'entity00145552_udf_BS_2013320165144405_StatementOfFinancialPositionAbstract',\n",
              "       'entity00527880_udf_BS_201632814221725_StatementOfFinancialPositionAbstract',\n",
              "       'entity00361169_udf_BS_201451320910670_udf_BS_201451320159487_StatementOfFinancialPositionAbstract',\n",
              "       'entity00159412_udf_BS_20145916281315_StatementOfFinancialPositionAbstract',\n",
              "       'entity00161693_udf_BS_2015318183447121_udf_BS_2015318183146858_StatementOfFinancialPositionAbstract',\n",
              "       'entity00300548_udf_BS_2014322174111287_StatementOfFinancialPositionAbstract',\n",
              "       'ifrs_Liabilities',\n",
              "       'entity00110431_udf_BS_201581391355598_StatementOfFinancialPositionAbstract',\n",
              "       'entity00191472_udf_BS_201332011345420_StatementOfFinancialPositionAbstract',\n",
              "       'entity00120562_udf_BS_201389104333796_StatementOfFinancialPositionAbstract',\n",
              "       'entity00126308_udf_BS_2011529202637437_StatementOfFinancialPositionAbstract',\n",
              "       'entity00453488_udf_BS_201541014337_LiabilitiesAbstract',\n",
              "       'entity00300405_udf_BS_2016331585178_StatementOfFinancialPositionAbstract',\n",
              "       'entity00361169_udf_BS_201451320654542_udf_BS_201451320116175_StatementOfFinancialPositionAbstract',\n",
              "       'entity00306454_udf_BS_2014328192730213_StatementOfFinancialPositionAbstract',\n",
              "       'ifrs_CurrentAssets',\n",
              "       'entity00112378_udf_BS_2011523205712865_AssetsAbstract',\n",
              "       'entity00220622_udf_BS_2013323111635796_AssetsAbstract',\n",
              "       'entity00300405_udf_BS_201633152225407_udf_BS_20163315229272_StatementOfFinancialPositionAbstract',\n",
              "       'entity00519252_udf_BS_201411211155693_AssetsAbstract',\n",
              "       'entity00618401_udf_BS_2012326144224297_AssetsAbstract',\n",
              "       'entity00361169_udf_BS_20145132033719_udf_BS_201451320056207_StatementOfFinancialPositionAbstract',\n",
              "       'entity00787057_udf_BS_2011112310538769_AssetsAbstract',\n",
              "       'ifrs_CashAndCashEquivalents',\n",
              "       'entity00110431_udf_BS_20158112150424_CurrentAssets', 'ifrs_Cash',\n",
              "       'ifrs_CashEquivalents',\n",
              "       'entity00159023_udf_BS_20111129163452298_CurrentAssets',\n",
              "       'entity00108649_udf_BS_2013112892628237_udf_BS_201311289261150_CurrentAssets',\n",
              "       'entity00623184_udf_BS_2015512113934775_CurrentAssets',\n",
              "       'entity00220622_udf_BS_201332311215978_udf_BS_2013323111635796_AssetsAbstract',\n",
              "       'entity00936787_udf_BS_2016310101323230_CashAndCashEquivalents',\n",
              "       'entity00379229_udf_BS_2014822155357296_CashAndCashEquivalents',\n",
              "       'entity00300405_udf_BS_201633152238431_udf_BS_201633152225407_udf_BS_20163315229272_StatementOfFinancialPositionAbstract',\n",
              "       'entity00519252_udf_BS_20141121115525593_udf_BS_201411211155693_AssetsAbstract',\n",
              "       'entity00526696_udf_BS_2013522182415281_CurrentAssets',\n",
              "       'entity00100601_udf_BS_2016391532138_CurrentAssets',\n",
              "       'entity00256380_udf_BS_201422411393218_OtherCurrentFinancialAssets',\n",
              "       'ifrs_OtherCashAndCashEquivalents',\n",
              "       'entity00618401_udf_BS_2012326144413297_udf_BS_2012326144224297_AssetsAbstract',\n",
              "       'entity00684714_udf_BS_2015324133335215_udf_BS_2015324132857792_CurrentAssets',\n",
              "       'entity00361169_udf_BS_201451320355383_udf_BS_20145132033719_udf_BS_201451320056207_StatementOfFinancialPositionAbstract',\n",
              "       'entity00163716_udf_BS_201232616130218_udf_BS_20123261671625_CurrentAssets',\n",
              "       'entity00160588_udf_BS_2011512144424796_udf_BS_2011512144332265_AssetsAbstract',\n",
              "       'entity00787057_udf_BS_2011112310644694_udf_BS_2011112310538769_AssetsAbstract',\n",
              "       'entity00914040_udf_BS_201743112753666_StatementOfFinancialPositionAbstract',\n",
              "       'entity00808022_udf_BS_20161216144934358_NoncontrollingInterests',\n",
              "       'entity00126308_udf_BS_201651202435946_StatementOfFinancialPositionAbstract',\n",
              "       'entity00914040_udf_BS_201743112922858_StatementOfFinancialPositionAbstract',\n",
              "       'entity00914040_udf_BS_20174311282950_StatementOfFinancialPositionAbstract',\n",
              "       'entity00273110_udf_BS_201732110232846_StatementOfFinancialPositionAbstract',\n",
              "       'entity00108649_udf_BS_2016812192939717_AssetsAbstract',\n",
              "       'entity00486097_udf_BS_201732914306513_AssetsAbstract',\n",
              "       'entity00108649_udf_BS_201681219334159_udf_BS_2016812192939717_AssetsAbstract',\n",
              "       'entity00486097_udf_BS_201732914310896_udf_BS_201732914306513_AssetsAbstract',\n",
              "       'entity00936787_udf_BS_2017320194756383_CashAndCashEquivalents',\n",
              "       'entity00273420_udf_BS_2017322132651247_CurrentAssets',\n",
              "       'entity00158024_udf_BS_20135241493122_StatementOfFinancialPositionAbstract',\n",
              "       'entity00808022_udf_BS_2017412145424464_NoncontrollingInterests',\n",
              "       'entity00130587_udf_BS_2017512135053230_StatementOfFinancialPositionAbstract',\n",
              "       'entity00936787_udf_BS_20174191122125_CashAndCashEquivalents',\n",
              "       'entity00914040_udf_BS_20171110193838122_StatementOfFinancialPositionAbstract',\n",
              "       'entity00126308_udf_BS_2017112235810598_StatementOfFinancialPositionAbstract',\n",
              "       'entity00914040_udf_BS_20171110193857183_StatementOfFinancialPositionAbstract',\n",
              "       'entity00259934_udf_BS_20171113234241372_StatementOfFinancialPositionAbstract',\n",
              "       'entity00914040_udf_BS_20171110193644266_StatementOfFinancialPositionAbstract',\n",
              "       'entity00259934_udf_BS_20171113193837473_StatementOfFinancialPositionAbstract',\n",
              "       'entity00653103_udf_BS_20171111225555201_CurrentAssets',\n",
              "       'entity00152437_udf_BS_2017118144425257_udf_BS_201711814441420_AssetsAbstract',\n",
              "       'entity00346407_udf_BS_20171025116117_CashAndCashEquivalents',\n",
              "       'entity00156150_udf_BS_2017118145947507_CashAndCashEquivalents',\n",
              "       'entity00808022_udf_BS_2017717104013192_NoncontrollingInterests',\n",
              "       'entity00130587_udf_BS_2017810105515352_StatementOfFinancialPositionAbstract',\n",
              "       'entity00985686_udf_BS_2017810143628368_StatementOfFinancialPositionAbstract',\n",
              "       'entity00936787_udf_BS_20178117731557_CashAndCashEquivalents',\n",
              "       'entity00258102_udf_BS_20178714830623_udf_BS_2017871473918_AssetsAbstract',\n",
              "       'entity00121686_udf_BS_20184285243842_udf_BS_20171113171737234_AssetsAbstract',\n",
              "       'entity00519252_udf_BS_2018411203621976_StatementOfFinancialPositionAbstract',\n",
              "       'entity00105271_udf_BS_2018514223117754_StatementOfFinancialPositionAbstract',\n",
              "       'entity00519252_udf_BS_2018411203534137_StatementOfFinancialPositionAbstract',\n",
              "       'entity00653103_udf_BS_2018813162517639_StatementOfFinancialPositionAbstract',\n",
              "       'entity00808022_udf_BS_2018102914293280_StatementOfFinancialPositionAbstract',\n",
              "       'entity00543204_udf_BS_20181113101212263_StatementOfFinancialPositionAbstract',\n",
              "       'entity00808022_udf_BS_2018118154617299_StatementOfFinancialPositionAbstract',\n",
              "       'entity00808022_udf_BS_2018881551586_StatementOfFinancialPositionAbstract',\n",
              "       'entity00585538_udf_BS_201882185047363_StatementOfFinancialPositionAbstract',\n",
              "       'entity00808022_udf_BS_201912115441150_StatementOfFinancialPositionAbstract',\n",
              "       'entity00808022_udf_BS_20191211551579_StatementOfFinancialPositionAbstract',\n",
              "       'entity00303794_udf_BS_201932315112314_StatementOfFinancialPositionAbstract',\n",
              "       'entity00259934_udf_BS_201932692528759_StatementOfFinancialPositionAbstract',\n",
              "       'entity00111218_udf_BS_201951316424252_StatementOfFinancialPositionAbstract',\n",
              "       'entity00111218_udf_BS_201951316443177_StatementOfFinancialPositionAbstract',\n",
              "       'entity00127255_udf_BS_20198918239669_StatementOfFinancialPositionAbstract',\n",
              "       'entity00587925_udf_BS_2020316165610438_StatementOfFinancialPositionAbstract',\n",
              "       'entity00808022_udf_BS_20205111454280_StatementOfFinancialPositionAbstract',\n",
              "       'entity01353024_udf_BS_2021319134531211_StatementOfFinancialPositionAbstract',\n",
              "       'entity00808022_udf_BS_2021415154311549_StatementOfFinancialPositionAbstract',\n",
              "       'entity00587925_udf_BS_2021517899466_StatementOfFinancialPositionAbstract',\n",
              "       'entity01326224_udf_BS_2021820154414521_StatementOfFinancialPositionAbstract',\n",
              "       'entity00121686_udf_BS_2021811102215260_udf_BS_2021811102127986_AssetsAbstract',\n",
              "       'entity00936787_udf_BS_201642516290602_CashAndCashEquivalents',\n",
              "       'entity00808022_udf_BS_2016101714199983_NoncontrollingInterests',\n",
              "       'entity00302582_udf_BS_2014822163524537_StatementOfFinancialPositionAbstract',\n",
              "       'entity00271501_udf_BS_2013320145134453_StatementOfFinancialPositionAbstract',\n",
              "       'entity00686147_udf_BS_201611821237805_StatementOfFinancialPositionAbstract',\n",
              "       'entity00936787_udf_BS_20161027135343519_CashAndCashEquivalents',\n",
              "       'entity00808022_udf_BS_2016811163224307_NoncontrollingInterests',\n",
              "       'entity01032413_udf_BS_20145916281315_StatementOfFinancialPositionAbstract',\n",
              "       'entity00936787_udf_BS_20167269455177_CashAndCashEquivalents'],\n",
              "      dtype=object)"
            ]
          },
          "metadata": {},
          "execution_count": 17
        }
      ]
    },
    {
      "cell_type": "code",
      "source": [
        "재무상태표일괄 = sample"
      ],
      "metadata": {
        "id": "3DJeKwvAvKP8"
      },
      "execution_count": 18,
      "outputs": []
    },
    {
      "cell_type": "markdown",
      "source": [
        "# 저장"
      ],
      "metadata": {
        "id": "J3CP4hoMvO79"
      }
    },
    {
      "cell_type": "code",
      "source": [
        "재무상태표일괄.to_csv('/content/drive/MyDrive/22캡스톤디자인/재무일괄/일괄/재무상태표일괄.csv')"
      ],
      "metadata": {
        "id": "SJ-LlUR0vQDW"
      },
      "execution_count": 19,
      "outputs": []
    },
    {
      "cell_type": "code",
      "source": [
        ""
      ],
      "metadata": {
        "id": "NmEQzP_OwaZz"
      },
      "execution_count": null,
      "outputs": []
    }
  ]
}