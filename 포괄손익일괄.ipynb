{
  "nbformat": 4,
  "nbformat_minor": 0,
  "metadata": {
    "colab": {
      "name": "포괄손익일괄.ipynb",
      "provenance": [],
      "mount_file_id": "1SS237p6F-f7aI5tnki7MESeWOCJgWWmU",
      "authorship_tag": "ABX9TyOmgseO5SxVs7JJHl9plRm8",
      "include_colab_link": true
    },
    "kernelspec": {
      "name": "python3",
      "display_name": "Python 3"
    },
    "language_info": {
      "name": "python"
    }
  },
  "cells": [
    {
      "cell_type": "markdown",
      "metadata": {
        "id": "view-in-github",
        "colab_type": "text"
      },
      "source": [
        "<a href=\"https://colab.research.google.com/github/wkd-woo/finance-statements/blob/main/%ED%8F%AC%EA%B4%84%EC%86%90%EC%9D%B5%EC%9D%BC%EA%B4%84.ipynb\" target=\"_parent\"><img src=\"https://colab.research.google.com/assets/colab-badge.svg\" alt=\"Open In Colab\"/></a>"
      ]
    },
    {
      "cell_type": "code",
      "source": [
        "!pip install -U finance-datareader"
      ],
      "metadata": {
        "id": "20iSJ6Uao9Kb"
      },
      "execution_count": null,
      "outputs": []
    },
    {
      "cell_type": "code",
      "execution_count": 2,
      "metadata": {
        "id": "Apxg6vyi57eK"
      },
      "outputs": [],
      "source": [
        "import pandas as pd\n",
        "import os\n",
        "from tqdm import tqdm\n",
        "import FinanceDataReader as fdr"
      ]
    },
    {
      "cell_type": "markdown",
      "source": [
        "# 파일별로 분류"
      ],
      "metadata": {
        "id": "iD13D-F14inJ"
      }
    },
    {
      "cell_type": "code",
      "source": [
        "import glob\n",
        "\n",
        "재무상태표 = [] # _01_\n",
        "손익계산서 = [] # _02_\n",
        "포괄손익계산서 = [] # _03_\n",
        "현금흐름표 = [] # _04_\n",
        "자본변동표 = [] #_05_\n",
        "\n",
        "\n",
        "for name in glob.glob('/content/drive/MyDrive/22캡스톤디자인/재무일괄/*.txt'):\n",
        "  if '_01_' in name:\n",
        "    재무상태표.append(name)\n",
        "  elif '_02_' in name:\n",
        "    손익계산서.append(name)\n",
        "  elif '_03_' in name:\n",
        "    포괄손익계산서.append(name)\n",
        "  elif '_04_' in name:\n",
        "    현금흐름표.append(name)\n",
        "  elif '_05_' in name:\n",
        "    자본변동표.append(name)"
      ],
      "metadata": {
        "id": "bDQfcVt-YC5d"
      },
      "execution_count": 3,
      "outputs": []
    },
    {
      "cell_type": "code",
      "source": [
        "sample = pd.DataFrame(columns=['종목코드','사업연도', '보고서종류', '회사명', '업종', '항목코드','항목명', '당기'])"
      ],
      "metadata": {
        "id": "31ZtygqJSAwb"
      },
      "execution_count": 71,
      "outputs": []
    },
    {
      "cell_type": "markdown",
      "source": [
        "# 데이터 추출"
      ],
      "metadata": {
        "id": "rzvhK7P4rDKF"
      }
    },
    {
      "cell_type": "code",
      "source": [
        "for path in tqdm(포괄손익계산서):\n",
        "  df = pd.read_csv(path, delimiter = '\\t', encoding='cp949')\n",
        "\n",
        "  당기 = ''\n",
        "  if df['보고서종류'][0] == '1분기보고서':\n",
        "    당기 = '당기 1분기 누적' \n",
        "  elif df['보고서종류'][0] == '반기보고서':\n",
        "    당기 = '당기 반기 누적' \n",
        "  elif df['보고서종류'][0] == '3분기보고서':\n",
        "    당기 = '당기 3분기 누적' \n",
        "  elif df['보고서종류'][0] == '사업보고서':\n",
        "    당기 = '당기' \n",
        "\n",
        "  df['사업연도'] = path[52:56] # 사업연도 컬럼 설정 - 파일명에서 가져온다\n",
        "  df['항목명'] = df['항목명'].str.strip() # 항목명 컬럼 문자열 전처리\n",
        "  df['항목코드'] = df['항목코드'].str.strip() # 항목코드 컬럼 문자열 전처리\n",
        "\n",
        "  df = df[['종목코드','사업연도', '보고서종류', '회사명', '업종', '항목코드','항목명', 당기]]\n",
        "\n",
        "  전체종목 = len(df['종목코드'].unique())\n",
        "\n",
        "  # (수익)매출액 (ifrs-full_Revenue)\n",
        "  매출액 = df[(df['항목코드'] == 'ifrs_Revenue') | (df['항목코드'] == 'ifrs-full_Revenue') | (df['항목명'].isin(['매출액','(수익)매출액','매출액(수익)','수익(매출액)']))]\n",
        "  매출액.rename(columns={당기:\"당기\"}, inplace=True)\n",
        "  매출액.drop_duplicates(['종목코드','사업연도','보고서종류','항목명'])\n",
        "  sample = sample.append(매출액, sort=False, ignore_index=True)\n",
        "  \n",
        "\n",
        "  # 매출총이익 (ifrs-full_GrossProfit))\n",
        "  매출총이익 = df[(df['항목코드'] == 'ifrs_GrossProfit') | (df['항목코드'] == 'ifrs-full_GrossProfit')| (df['항목명'].isin(['매출총이익','(수익)매출총이익','매출총이익(손실)']))]\n",
        "  매출총이익.rename(columns={당기:\"당기\"}, inplace=True)\n",
        "  매출총이익.drop_duplicates(['종목코드','사업연도','보고서종류','항목명'])\n",
        "  sample = sample.append(매출총이익, sort=False, ignore_index=True)\n",
        "\n",
        "  # 영업이익(손실) (dart_OperatingIncomeLoss)\n",
        "  영업이익 = df[(df['항목코드'] == 'dart_OperatingIncomeLoss')|(df['항목명'].isin(['영업이익','영업이익(손실)']))]\n",
        "  영업이익.rename(columns={당기:\"당기\"}, inplace=True)\n",
        "  영업이익.drop_duplicates(['종목코드','사업연도','보고서종류','항목명'])\n",
        "  sample = sample.append(영업이익, sort=False, ignore_index=True)\n",
        "  \n",
        "  # 당기순이익(손실) (ifrs_ProfitLoss)\n",
        "  당기순이익 = df[(df['항목코드'] == 'ifrs-full_ProfitLoss') | (df['항목코드'] == 'ifrs_ProfitLoss') |  (df['항목명'].isin(['당기순이익','당기순이익(손실)']))]\n",
        "  당기순이익.rename(columns={당기:\"당기\"}, inplace=True)\n",
        "  당기순이익.drop_duplicates(['종목코드','사업연도','보고서종류','항목명'])\n",
        "  sample = sample.append(당기순이익, sort=False, ignore_index=True)\n",
        "\n",
        "  # 감가상각비(dart_DepreciationExpense)\n",
        "  감가상각비 = df[(df['항목코드'] == 'dart_DepreciationExpense')|(df['항목명'].isin(['감가상각비']))]\n",
        "  감가상각비.rename(columns={당기:\"당기\"}, inplace=True)\n",
        "  sample = sample.append(감가상각비, sort=False, ignore_index=True)\n",
        "\n",
        "  # 법인세비용차감전순이익(손실)(ifrs-full_ProfitLossBeforeTax)\n",
        "  법인세차감전순이익 = df[(df['항목코드'] == 'ifrs-full_ProfitLossBeforeTax') | (df['항목코드'] == 'ifrs_ProfitLossBeforeTax') | df['항목명'].isin(['법인세차감전순이익','법인세차감전순이익(손실)'])]\n",
        "  법인세차감전순이익.rename(columns={당기:\"당기\"}, inplace=True)\n",
        "  법인세차감전순이익.drop_duplicates(['종목코드','사업연도','보고서종류','항목명'])\n",
        "  sample = sample.append(법인세차감전순이익, sort=False, ignore_index=True)\n",
        "  \n"
      ],
      "metadata": {
        "colab": {
          "base_uri": "https://localhost:8080/"
        },
        "id": "pTjG2UQBAxzX",
        "outputId": "de82d2d6-76fa-4fb1-d580-c9baf811667d"
      },
      "execution_count": 72,
      "outputs": [
        {
          "output_type": "stream",
          "name": "stderr",
          "text": [
            "  0%|          | 0/24 [00:00<?, ?it/s]/usr/local/lib/python3.7/dist-packages/pandas/core/frame.py:5047: SettingWithCopyWarning: \n",
            "A value is trying to be set on a copy of a slice from a DataFrame\n",
            "\n",
            "See the caveats in the documentation: https://pandas.pydata.org/pandas-docs/stable/user_guide/indexing.html#returning-a-view-versus-a-copy\n",
            "  errors=errors,\n",
            "100%|██████████| 24/24 [00:12<00:00,  1.90it/s]\n"
          ]
        }
      ]
    },
    {
      "cell_type": "markdown",
      "source": [
        "# 데이터 전처리"
      ],
      "metadata": {
        "id": "T0CEb_plrH6O"
      }
    },
    {
      "cell_type": "code",
      "source": [
        "sample['종목코드'] = sample['종목코드'].apply(lambda x:x[1:-1])"
      ],
      "metadata": {
        "id": "iHgWz7ZGBWSa"
      },
      "execution_count": 73,
      "outputs": []
    },
    {
      "cell_type": "code",
      "source": [
        "sample['항목명'] = sample.apply(lambda x: '매출액' if x['항목코드'] == 'ifrs_Revenue' else x['항목명'], axis=1)\n",
        "sample['항목명'] = sample.apply(lambda x: '매출액' if x['항목코드'] == 'ifrs-full_Revenue' else x['항목명'], axis=1)\n",
        "sample['항목명'] = sample.apply(lambda x: '매출총이익' if x['항목코드'] == 'ifrs_GrossProfit' else x['항목명'], axis=1)\n",
        "sample['항목명'] = sample.apply(lambda x: '매출총이익' if x['항목코드'] == 'ifrs-full_GrossProfit' else x['항목명'], axis=1)\n",
        "sample['항목명'] = sample.apply(lambda x: '영업이익' if x['항목코드'] == 'dart_OperatingIncomeLoss' else x['항목명'], axis=1)\n",
        "sample['항목명'] = sample.apply(lambda x: '당기순이익' if x['항목코드'] == 'ifrs_ProfitLoss' else x['항목명'], axis=1)\n",
        "sample['항목명'] = sample.apply(lambda x: '당기순이익' if x['항목코드'] == 'ifrs-full_ProfitLoss' else x['항목명'], axis=1)\n",
        "sample['항목명'] = sample.apply(lambda x: '감가상각비' if x['항목코드'] == 'dart_DepreciationExpense' else x['항목명'], axis=1)\n",
        "sample['항목명'] = sample.apply(lambda x: '법인세비용차감전순이익' if x['항목코드'] == 'ifrs_ProfitLossBeforeTax' else x['항목명'], axis=1)\n",
        "sample['항목명'] = sample.apply(lambda x: '법인세비용차감전순이익' if x['항목코드'] == 'ifrs-full_ProfitLossBeforeTax' else x['항목명'], axis=1)\n",
        "sample['항목명'] = sample.apply(lambda x: '매출액' if x['항목명'] == '수익(매출액)' else x['항목명'], axis=1)\n",
        "sample['항목명'] = sample.apply(lambda x: '매출총이익' if x['항목명'] == '매출총이익(손실)' else x['항목명'], axis=1)\n",
        "sample['항목명'] = sample.apply(lambda x: '영업이익' if x['항목명'] == '영업이익(손실)' else x['항목명'], axis=1)\n",
        "sample['항목명'] = sample.apply(lambda x: '당기순이익' if x['항목명'] == '당기순이익(손실)' else x['항목명'], axis=1)\n",
        "sample['항목명'] = sample.apply(lambda x: '법인세차감전순이익' if x['항목명'] == '법인세차감전순이익(손실)' else x['항목명'], axis=1)\n",
        "\n",
        "sample"
      ],
      "metadata": {
        "colab": {
          "base_uri": "https://localhost:8080/",
          "height": 423
        },
        "id": "T5QHQ2V7jG19",
        "outputId": "a64315a9-38ee-482f-9bf4-5ca4b1c81dc2"
      },
      "execution_count": 81,
      "outputs": [
        {
          "output_type": "execute_result",
          "data": {
            "text/plain": [
              "          종목코드  사업연도   보고서종류     회사명   업종                      항목코드  \\\n",
              "0       060310  2016   반기보고서      3S  262              ifrs_Revenue   \n",
              "1       095570  2016   반기보고서  AJ네트웍스  693              ifrs_Revenue   \n",
              "2       006840  2016   반기보고서   AK홀딩스  715              ifrs_Revenue   \n",
              "3       054620  2016   반기보고서   AP시스템  292              ifrs_Revenue   \n",
              "4       027410  2016   반기보고서  BGF리테일  471              ifrs_Revenue   \n",
              "...        ...   ...     ...     ...  ...                       ...   \n",
              "174285  069260  2016  3분기보고서     휴켐스  204  ifrs_ProfitLossBeforeTax   \n",
              "174286  010240  2016  3분기보고서      흥국  292  ifrs_ProfitLossBeforeTax   \n",
              "174287  189980  2016  3분기보고서  흥국에프엔비  112  ifrs_ProfitLossBeforeTax   \n",
              "174288  003280  2016  3분기보고서    흥아해운  501  ifrs_ProfitLossBeforeTax   \n",
              "174289  037440  2016  3분기보고서      희림  721  ifrs_ProfitLossBeforeTax   \n",
              "\n",
              "                항목명                 당기  \n",
              "0               매출액     13,824,059,417  \n",
              "1               매출액    599,785,915,747  \n",
              "2               매출액  1,378,197,891,715  \n",
              "3               매출액    148,087,692,662  \n",
              "4               매출액  2,364,759,516,212  \n",
              "...             ...                ...  \n",
              "174285  법인세비용차감전순이익     45,234,164,953  \n",
              "174286  법인세비용차감전순이익      3,483,104,424  \n",
              "174287  법인세비용차감전순이익      4,830,562,718  \n",
              "174288  법인세비용차감전순이익    -27,534,283,994  \n",
              "174289  법인세비용차감전순이익      1,758,181,799  \n",
              "\n",
              "[174290 rows x 8 columns]"
            ],
            "text/html": [
              "\n",
              "  <div id=\"df-f18806ea-57ee-41ba-8c8f-70d37ba608b4\">\n",
              "    <div class=\"colab-df-container\">\n",
              "      <div>\n",
              "<style scoped>\n",
              "    .dataframe tbody tr th:only-of-type {\n",
              "        vertical-align: middle;\n",
              "    }\n",
              "\n",
              "    .dataframe tbody tr th {\n",
              "        vertical-align: top;\n",
              "    }\n",
              "\n",
              "    .dataframe thead th {\n",
              "        text-align: right;\n",
              "    }\n",
              "</style>\n",
              "<table border=\"1\" class=\"dataframe\">\n",
              "  <thead>\n",
              "    <tr style=\"text-align: right;\">\n",
              "      <th></th>\n",
              "      <th>종목코드</th>\n",
              "      <th>사업연도</th>\n",
              "      <th>보고서종류</th>\n",
              "      <th>회사명</th>\n",
              "      <th>업종</th>\n",
              "      <th>항목코드</th>\n",
              "      <th>항목명</th>\n",
              "      <th>당기</th>\n",
              "    </tr>\n",
              "  </thead>\n",
              "  <tbody>\n",
              "    <tr>\n",
              "      <th>0</th>\n",
              "      <td>060310</td>\n",
              "      <td>2016</td>\n",
              "      <td>반기보고서</td>\n",
              "      <td>3S</td>\n",
              "      <td>262</td>\n",
              "      <td>ifrs_Revenue</td>\n",
              "      <td>매출액</td>\n",
              "      <td>13,824,059,417</td>\n",
              "    </tr>\n",
              "    <tr>\n",
              "      <th>1</th>\n",
              "      <td>095570</td>\n",
              "      <td>2016</td>\n",
              "      <td>반기보고서</td>\n",
              "      <td>AJ네트웍스</td>\n",
              "      <td>693</td>\n",
              "      <td>ifrs_Revenue</td>\n",
              "      <td>매출액</td>\n",
              "      <td>599,785,915,747</td>\n",
              "    </tr>\n",
              "    <tr>\n",
              "      <th>2</th>\n",
              "      <td>006840</td>\n",
              "      <td>2016</td>\n",
              "      <td>반기보고서</td>\n",
              "      <td>AK홀딩스</td>\n",
              "      <td>715</td>\n",
              "      <td>ifrs_Revenue</td>\n",
              "      <td>매출액</td>\n",
              "      <td>1,378,197,891,715</td>\n",
              "    </tr>\n",
              "    <tr>\n",
              "      <th>3</th>\n",
              "      <td>054620</td>\n",
              "      <td>2016</td>\n",
              "      <td>반기보고서</td>\n",
              "      <td>AP시스템</td>\n",
              "      <td>292</td>\n",
              "      <td>ifrs_Revenue</td>\n",
              "      <td>매출액</td>\n",
              "      <td>148,087,692,662</td>\n",
              "    </tr>\n",
              "    <tr>\n",
              "      <th>4</th>\n",
              "      <td>027410</td>\n",
              "      <td>2016</td>\n",
              "      <td>반기보고서</td>\n",
              "      <td>BGF리테일</td>\n",
              "      <td>471</td>\n",
              "      <td>ifrs_Revenue</td>\n",
              "      <td>매출액</td>\n",
              "      <td>2,364,759,516,212</td>\n",
              "    </tr>\n",
              "    <tr>\n",
              "      <th>...</th>\n",
              "      <td>...</td>\n",
              "      <td>...</td>\n",
              "      <td>...</td>\n",
              "      <td>...</td>\n",
              "      <td>...</td>\n",
              "      <td>...</td>\n",
              "      <td>...</td>\n",
              "      <td>...</td>\n",
              "    </tr>\n",
              "    <tr>\n",
              "      <th>174285</th>\n",
              "      <td>069260</td>\n",
              "      <td>2016</td>\n",
              "      <td>3분기보고서</td>\n",
              "      <td>휴켐스</td>\n",
              "      <td>204</td>\n",
              "      <td>ifrs_ProfitLossBeforeTax</td>\n",
              "      <td>법인세비용차감전순이익</td>\n",
              "      <td>45,234,164,953</td>\n",
              "    </tr>\n",
              "    <tr>\n",
              "      <th>174286</th>\n",
              "      <td>010240</td>\n",
              "      <td>2016</td>\n",
              "      <td>3분기보고서</td>\n",
              "      <td>흥국</td>\n",
              "      <td>292</td>\n",
              "      <td>ifrs_ProfitLossBeforeTax</td>\n",
              "      <td>법인세비용차감전순이익</td>\n",
              "      <td>3,483,104,424</td>\n",
              "    </tr>\n",
              "    <tr>\n",
              "      <th>174287</th>\n",
              "      <td>189980</td>\n",
              "      <td>2016</td>\n",
              "      <td>3분기보고서</td>\n",
              "      <td>흥국에프엔비</td>\n",
              "      <td>112</td>\n",
              "      <td>ifrs_ProfitLossBeforeTax</td>\n",
              "      <td>법인세비용차감전순이익</td>\n",
              "      <td>4,830,562,718</td>\n",
              "    </tr>\n",
              "    <tr>\n",
              "      <th>174288</th>\n",
              "      <td>003280</td>\n",
              "      <td>2016</td>\n",
              "      <td>3분기보고서</td>\n",
              "      <td>흥아해운</td>\n",
              "      <td>501</td>\n",
              "      <td>ifrs_ProfitLossBeforeTax</td>\n",
              "      <td>법인세비용차감전순이익</td>\n",
              "      <td>-27,534,283,994</td>\n",
              "    </tr>\n",
              "    <tr>\n",
              "      <th>174289</th>\n",
              "      <td>037440</td>\n",
              "      <td>2016</td>\n",
              "      <td>3분기보고서</td>\n",
              "      <td>희림</td>\n",
              "      <td>721</td>\n",
              "      <td>ifrs_ProfitLossBeforeTax</td>\n",
              "      <td>법인세비용차감전순이익</td>\n",
              "      <td>1,758,181,799</td>\n",
              "    </tr>\n",
              "  </tbody>\n",
              "</table>\n",
              "<p>174290 rows × 8 columns</p>\n",
              "</div>\n",
              "      <button class=\"colab-df-convert\" onclick=\"convertToInteractive('df-f18806ea-57ee-41ba-8c8f-70d37ba608b4')\"\n",
              "              title=\"Convert this dataframe to an interactive table.\"\n",
              "              style=\"display:none;\">\n",
              "        \n",
              "  <svg xmlns=\"http://www.w3.org/2000/svg\" height=\"24px\"viewBox=\"0 0 24 24\"\n",
              "       width=\"24px\">\n",
              "    <path d=\"M0 0h24v24H0V0z\" fill=\"none\"/>\n",
              "    <path d=\"M18.56 5.44l.94 2.06.94-2.06 2.06-.94-2.06-.94-.94-2.06-.94 2.06-2.06.94zm-11 1L8.5 8.5l.94-2.06 2.06-.94-2.06-.94L8.5 2.5l-.94 2.06-2.06.94zm10 10l.94 2.06.94-2.06 2.06-.94-2.06-.94-.94-2.06-.94 2.06-2.06.94z\"/><path d=\"M17.41 7.96l-1.37-1.37c-.4-.4-.92-.59-1.43-.59-.52 0-1.04.2-1.43.59L10.3 9.45l-7.72 7.72c-.78.78-.78 2.05 0 2.83L4 21.41c.39.39.9.59 1.41.59.51 0 1.02-.2 1.41-.59l7.78-7.78 2.81-2.81c.8-.78.8-2.07 0-2.86zM5.41 20L4 18.59l7.72-7.72 1.47 1.35L5.41 20z\"/>\n",
              "  </svg>\n",
              "      </button>\n",
              "      \n",
              "  <style>\n",
              "    .colab-df-container {\n",
              "      display:flex;\n",
              "      flex-wrap:wrap;\n",
              "      gap: 12px;\n",
              "    }\n",
              "\n",
              "    .colab-df-convert {\n",
              "      background-color: #E8F0FE;\n",
              "      border: none;\n",
              "      border-radius: 50%;\n",
              "      cursor: pointer;\n",
              "      display: none;\n",
              "      fill: #1967D2;\n",
              "      height: 32px;\n",
              "      padding: 0 0 0 0;\n",
              "      width: 32px;\n",
              "    }\n",
              "\n",
              "    .colab-df-convert:hover {\n",
              "      background-color: #E2EBFA;\n",
              "      box-shadow: 0px 1px 2px rgba(60, 64, 67, 0.3), 0px 1px 3px 1px rgba(60, 64, 67, 0.15);\n",
              "      fill: #174EA6;\n",
              "    }\n",
              "\n",
              "    [theme=dark] .colab-df-convert {\n",
              "      background-color: #3B4455;\n",
              "      fill: #D2E3FC;\n",
              "    }\n",
              "\n",
              "    [theme=dark] .colab-df-convert:hover {\n",
              "      background-color: #434B5C;\n",
              "      box-shadow: 0px 1px 3px 1px rgba(0, 0, 0, 0.15);\n",
              "      filter: drop-shadow(0px 1px 2px rgba(0, 0, 0, 0.3));\n",
              "      fill: #FFFFFF;\n",
              "    }\n",
              "  </style>\n",
              "\n",
              "      <script>\n",
              "        const buttonEl =\n",
              "          document.querySelector('#df-f18806ea-57ee-41ba-8c8f-70d37ba608b4 button.colab-df-convert');\n",
              "        buttonEl.style.display =\n",
              "          google.colab.kernel.accessAllowed ? 'block' : 'none';\n",
              "\n",
              "        async function convertToInteractive(key) {\n",
              "          const element = document.querySelector('#df-f18806ea-57ee-41ba-8c8f-70d37ba608b4');\n",
              "          const dataTable =\n",
              "            await google.colab.kernel.invokeFunction('convertToInteractive',\n",
              "                                                     [key], {});\n",
              "          if (!dataTable) return;\n",
              "\n",
              "          const docLinkHtml = 'Like what you see? Visit the ' +\n",
              "            '<a target=\"_blank\" href=https://colab.research.google.com/notebooks/data_table.ipynb>data table notebook</a>'\n",
              "            + ' to learn more about interactive tables.';\n",
              "          element.innerHTML = '';\n",
              "          dataTable['output_type'] = 'display_data';\n",
              "          await google.colab.output.renderOutput(dataTable, element);\n",
              "          const docLink = document.createElement('div');\n",
              "          docLink.innerHTML = docLinkHtml;\n",
              "          element.appendChild(docLink);\n",
              "        }\n",
              "      </script>\n",
              "    </div>\n",
              "  </div>\n",
              "  "
            ]
          },
          "metadata": {},
          "execution_count": 81
        }
      ]
    },
    {
      "cell_type": "code",
      "source": [
        "sample['항목명'].unique()"
      ],
      "metadata": {
        "colab": {
          "base_uri": "https://localhost:8080/"
        },
        "id": "5tiB62fEl6_c",
        "outputId": "9d060312-eebd-4543-bb6e-8780cdd9f392"
      },
      "execution_count": 82,
      "outputs": [
        {
          "output_type": "execute_result",
          "data": {
            "text/plain": [
              "array(['매출액', '매출총이익', '영업이익', '당기순이익', '감가상각비', '법인세비용차감전순이익',\n",
              "       '법인세차감전순이익'], dtype=object)"
            ]
          },
          "metadata": {},
          "execution_count": 82
        }
      ]
    },
    {
      "cell_type": "code",
      "source": [
        "포괄손익일괄 = sample"
      ],
      "metadata": {
        "id": "_YDaFRMtqVmj"
      },
      "execution_count": 83,
      "outputs": []
    },
    {
      "cell_type": "markdown",
      "source": [
        "# 저장"
      ],
      "metadata": {
        "id": "z0zezGI1rNLt"
      }
    },
    {
      "cell_type": "code",
      "source": [
        "포괄손익일괄.to_csv('/content/drive/MyDrive/22캡스톤디자인/재무일괄/일괄/포괄손익일괄.csv')"
      ],
      "metadata": {
        "id": "GmaJvPfGqgRa"
      },
      "execution_count": 84,
      "outputs": []
    },
    {
      "cell_type": "code",
      "source": [
        ""
      ],
      "metadata": {
        "id": "UWDZ2xGSq082"
      },
      "execution_count": null,
      "outputs": []
    }
  ]
}