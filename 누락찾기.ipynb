{
  "nbformat": 4,
  "nbformat_minor": 0,
  "metadata": {
    "colab": {
      "name": "누락찾기.ipynb",
      "provenance": [],
      "collapsed_sections": []
    },
    "kernelspec": {
      "name": "python3",
      "display_name": "Python 3"
    },
    "language_info": {
      "name": "python"
    }
  },
  "cells": [
    {
      "cell_type": "code",
      "source": [
        "!pip install -U finance-datareader\n",
        "import pandas as pd\n",
        "import os\n",
        "from tqdm import tqdm\n",
        "import FinanceDataReader as fdr"
      ],
      "metadata": {
        "id": "w0DqBUtZeVkw"
      },
      "execution_count": null,
      "outputs": []
    },
    {
      "cell_type": "code",
      "source": [
        "통합재무정보 = pd.read_csv('/content/drive/MyDrive/22캡스톤디자인/재무일괄/일괄/통합.csv', index_col = 0,  dtype={'종목코드':'str'})"
      ],
      "metadata": {
        "id": "DoZj5O_E-oW2"
      },
      "execution_count": null,
      "outputs": []
    },
    {
      "cell_type": "markdown",
      "source": [
        "# 데이터 가져옴"
      ],
      "metadata": {
        "id": "1zpWpk5fERHl"
      }
    },
    {
      "cell_type": "code",
      "source": [
        "매출액누락 = 통합재무정보[(통합재무정보['매출액'] == '0')|(통합재무정보['매출액'] == 0)]['종목코드'].unique().tolist()\n",
        "영업이익누락 = 통합재무정보[(통합재무정보['영업이익'] == '0')|(통합재무정보['영업이익'] == 0)]['종목코드'].unique().tolist()\n",
        "매출총이익누락 = 통합재무정보[(통합재무정보['매출총이익'] == '0')|(통합재무정보['매출총이익'] == 0)]['종목코드'].unique().tolist()\n",
        "전체누락 = 매출액누락 + 영업이익누락 + 매출총이익누락"
      ],
      "metadata": {
        "id": "tQ8UoqOBxYmS"
      },
      "execution_count": null,
      "outputs": []
    },
    {
      "cell_type": "code",
      "source": [
        "print(f\"매출액누락: {len(매출액누락)}\")\n",
        "print(f\"영업이익누락: {len(영업이익누락)}\")\n",
        "print(f\"매출총이익누락: {len(매출총이익누락)}\")"
      ],
      "metadata": {
        "colab": {
          "base_uri": "https://localhost:8080/"
        },
        "id": "eGu2g_9tx6pa",
        "outputId": "884abba2-f75b-4d4b-c19a-ff41d663cc51"
      },
      "execution_count": null,
      "outputs": [
        {
          "output_type": "stream",
          "name": "stdout",
          "text": [
            "매출액누락: 299\n",
            "영업이익누락: 222\n",
            "매출총이익누락: 353\n"
          ]
        }
      ]
    },
    {
      "cell_type": "code",
      "source": [
        "import glob\n",
        "\n",
        "재무상태표 = [] # _01_\n",
        "손익계산서 = [] # _02_\n",
        "포괄손익계산서 = [] # _03_\n",
        "현금흐름표 = [] # _04_\n",
        "자본변동표 = [] #_05_\n",
        "\n",
        "\n",
        "for name in glob.glob('/content/drive/MyDrive/22캡스톤디자인/재무일괄/*.txt'):\n",
        "  if '_01_' in name:\n",
        "    재무상태표.append(name)\n",
        "  elif '_02_' in name:\n",
        "    손익계산서.append(name)\n",
        "  elif '_03_' in name:\n",
        "    포괄손익계산서.append(name)\n",
        "  elif '_04_' in name:\n",
        "    현금흐름표.append(name)\n",
        "  elif '_05_' in name:\n",
        "    자본변동표.append(name)"
      ],
      "metadata": {
        "id": "8TBvqH48yDR9"
      },
      "execution_count": null,
      "outputs": []
    },
    {
      "cell_type": "code",
      "source": [
        "손익계산샘플 = pd.DataFrame(columns=['종목코드','사업연도', '보고서종류', '회사명', '업종', '항목코드','항목명', '당기'])\n",
        "\n",
        "for path in tqdm(손익계산서):\n",
        "  temp = pd.read_csv(path, delimiter = '\\t', encoding='cp949')  \n",
        "\n",
        "  당기 = ''\n",
        "  if temp['보고서종류'][0] == '1분기보고서':\n",
        "    당기 = '당기 1분기 누적' \n",
        "  elif temp['보고서종류'][0] == '반기보고서':\n",
        "    당기 = '당기 반기 누적' \n",
        "  elif temp['보고서종류'][0] == '3분기보고서':\n",
        "    당기 = '당기 3분기 누적' \n",
        "  elif temp['보고서종류'][0] == '사업보고서':\n",
        "    당기 = '당기' \n",
        "\n",
        "  temp['사업연도'] = path[52:56] # 사업연도 컬럼 설정 - 파일명에서 가져온다\n",
        "  temp['항목명'] = temp['항목명'].str.strip() # 항목명 컬럼 문자열 전처리\n",
        "  temp['항목코드'] = temp['항목코드'].str.strip() # 항목코드 컬럼 문자열 전처리\n",
        "\n",
        "  temp = temp[['종목코드','사업연도', '보고서종류', '회사명', '업종', '항목코드','항목명', 당기]]\n",
        "  temp.rename(columns={당기:\"당기\"}, inplace=True)\n",
        "\n",
        "  손익계산샘플 = 손익계산샘플.append(temp)\n",
        "\n",
        "손익계산샘플['종목코드'] = 손익계산샘플['종목코드'].apply(lambda x:x[1:-1])"
      ],
      "metadata": {
        "colab": {
          "base_uri": "https://localhost:8080/"
        },
        "id": "wa6mpUXny79y",
        "outputId": "18512436-c596-491e-fb21-ad36b63d746b"
      },
      "execution_count": null,
      "outputs": [
        {
          "output_type": "stream",
          "name": "stderr",
          "text": [
            " 42%|████▏     | 10/24 [00:14<00:09,  1.44it/s]/usr/local/lib/python3.7/dist-packages/pandas/core/frame.py:5047: SettingWithCopyWarning: \n",
            "A value is trying to be set on a copy of a slice from a DataFrame\n",
            "\n",
            "See the caveats in the documentation: https://pandas.pydata.org/pandas-docs/stable/user_guide/indexing.html#returning-a-view-versus-a-copy\n",
            "  errors=errors,\n",
            "100%|██████████| 24/24 [00:16<00:00,  1.50it/s]\n"
          ]
        }
      ]
    },
    {
      "cell_type": "code",
      "source": [
        "손익계산샘플 = pd.DataFrame(columns=['종목코드','사업연도', '보고서종류', '회사명', '업종', '항목코드','항목명', '당기'])\n",
        "\n",
        "for path in tqdm(손익계산서):\n",
        "  temp = pd.read_csv(path, delimiter = '\\t', encoding='cp949')  \n",
        "\n",
        "  당기 = ''\n",
        "  if temp['보고서종류'][0] == '1분기보고서':\n",
        "    당기 = '당기 1분기 누적' \n",
        "  elif temp['보고서종류'][0] == '반기보고서':\n",
        "    당기 = '당기 반기 누적' \n",
        "  elif temp['보고서종류'][0] == '3분기보고서':\n",
        "    당기 = '당기 3분기 누적' \n",
        "  elif temp['보고서종류'][0] == '사업보고서':\n",
        "    당기 = '당기' \n",
        "\n",
        "  temp['사업연도'] = path[52:56] # 사업연도 컬럼 설정 - 파일명에서 가져온다\n",
        "  temp['항목명'] = temp['항목명'].str.strip() # 항목명 컬럼 문자열 전처리\n",
        "  temp['항목코드'] = temp['항목코드'].str.strip() # 항목코드 컬럼 문자열 전처리\n",
        "\n",
        "  temp = temp[['종목코드','사업연도', '보고서종류', '회사명', '업종', '항목코드','항목명', 당기]]\n",
        "  temp.rename(columns={당기:\"당기\"}, inplace=True)\n",
        "\n",
        "  손익계산샘플 = 손익계산샘플.append(temp)\n",
        "\n",
        "손익계산샘플['종목코드'] = 손익계산샘플['종목코드'].apply(lambda x:x[1:-1])"
      ],
      "metadata": {
        "colab": {
          "base_uri": "https://localhost:8080/"
        },
        "id": "OI3mwgHLM4bg",
        "outputId": "8db75c8e-0e05-47c0-b3e4-3f83184ebed5"
      },
      "execution_count": null,
      "outputs": [
        {
          "output_type": "stream",
          "name": "stderr",
          "text": [
            "100%|██████████| 24/24 [00:02<00:00, 10.42it/s]\n"
          ]
        }
      ]
    },
    {
      "cell_type": "markdown",
      "source": [
        "# 누락데이터 확인"
      ],
      "metadata": {
        "id": "ym59E6BlEbq6"
      }
    },
    {
      "cell_type": "code",
      "source": [
        "누락데이터 = pd.DataFrame(columns=['종목코드','사업연도', '보고서종류', '회사명', '업종', '항목코드','항목명', '당기'])\n",
        "\n",
        "sample = 손익계산샘플[손익계산샘플['종목코드'].isin(매출액누락 + 영업이익누락 + 매출총이익누락)]\n",
        "# (수익)매출액 (ifrs-full_Revenue)\n",
        "매출액 = sample[(sample['항목코드'] == 'ifrs_Revenue') | (sample['항목코드'] == 'ifrs-full_Revenue') | (sample['항목명'].isin(['매출액','(수익)매출액','매출액(수익)','수익(매출액)']))]\n",
        "매출액.rename(columns={당기:\"당기\"}, inplace=True)\n",
        "매출액.drop_duplicates(['종목코드','사업연도','보고서종류','항목명'])\n",
        "누락데이터 = 누락데이터.append(매출액, sort=False, ignore_index=True)\n",
        "\n",
        " # 매출총이익 (ifrs-full_GrossProfit))\n",
        "매출총이익 = sample[(sample['항목코드'] == 'ifrs_GrossProfit') | (sample['항목코드'] == 'ifrs-full_GrossProfit')| (sample['항목명'].isin(['매출총이익','(수익)매출총이익','매출총이익(손실)']))]\n",
        "매출총이익.rename(columns={당기:\"당기\"}, inplace=True)\n",
        "매출총이익.drop_duplicates(['종목코드','사업연도','보고서종류','항목명'])\n",
        "누락데이터 = 누락데이터.append(매출총이익, sort=False, ignore_index=True)\n",
        "\n",
        "# 영업이익(손실) (dart_OperatingIncomeLoss)\n",
        "영업이익 = sample[(sample['항목코드'] == 'dart_OperatingIncomeLoss')|(sample['항목명'].isin(['영업이익','영업이익(손실)']))]\n",
        "영업이익.rename(columns={당기:\"당기\"}, inplace=True)\n",
        "영업이익.drop_duplicates(['종목코드','사업연도','보고서종류','항목명'])\n",
        "누락데이터 = 누락데이터.append(영업이익, sort=False, ignore_index=True)"
      ],
      "metadata": {
        "colab": {
          "base_uri": "https://localhost:8080/"
        },
        "id": "I96duSBp0i6y",
        "outputId": "eb41f0ce-c7ac-45a4-c4c2-e7cc7fad723f"
      },
      "execution_count": null,
      "outputs": [
        {
          "output_type": "stream",
          "name": "stderr",
          "text": [
            "/usr/local/lib/python3.7/dist-packages/pandas/core/frame.py:5047: SettingWithCopyWarning: \n",
            "A value is trying to be set on a copy of a slice from a DataFrame\n",
            "\n",
            "See the caveats in the documentation: https://pandas.pydata.org/pandas-docs/stable/user_guide/indexing.html#returning-a-view-versus-a-copy\n",
            "  errors=errors,\n"
          ]
        }
      ]
    },
    {
      "cell_type": "code",
      "source": [
        "누락데이터"
      ],
      "metadata": {
        "colab": {
          "base_uri": "https://localhost:8080/",
          "height": 1000
        },
        "id": "Fksx_5ZhCeRr",
        "outputId": "e8360c62-4fb9-473a-e43d-96e5b9e5b5c8"
      },
      "execution_count": null,
      "outputs": [
        {
          "output_type": "execute_result",
          "data": {
            "text/plain": [
              "         종목코드  사업연도   보고서종류      회사명   업종                      항목코드       항목명  \\\n",
              "0      001040  2016   사업보고서       CJ  715              ifrs_Revenue      영업수익   \n",
              "1      000120  2016   사업보고서   CJ대한통운  493              ifrs_Revenue       매출액   \n",
              "2      155660  2016   사업보고서      DSR  139              ifrs_Revenue       매출액   \n",
              "3      078930  2016   사업보고서       GS  715              ifrs_Revenue        매출   \n",
              "4      006360  2016   사업보고서     GS건설  411              ifrs_Revenue       매출액   \n",
              "...       ...   ...     ...      ...  ...                       ...       ...   \n",
              "11399  005380  2016  3분기보고서    현대자동차  301  dart_OperatingIncomeLoss      영업이익   \n",
              "11400  011760  2016  3분기보고서   현대종합상사  468  dart_OperatingIncomeLoss      영업이익   \n",
              "11401  008770  2016  3분기보고서     호텔신라  478  dart_OperatingIncomeLoss    V.영업이익   \n",
              "11402  064240  2016  3분기보고서     홈캐스트  265  dart_OperatingIncomeLoss  영업이익(손실)   \n",
              "11403  006060  2016  3분기보고서  화승인더스트리  222  dart_OperatingIncomeLoss  영업이익(손실)   \n",
              "\n",
              "                       당기  \n",
              "0      23,954,197,397,000  \n",
              "1       6,081,945,642,204  \n",
              "2         201,060,062,780  \n",
              "3      13,462,426,000,000  \n",
              "4      11,035,596,402,664  \n",
              "...                   ...  \n",
              "11399   4,172,334,000,000  \n",
              "11400      23,404,203,949  \n",
              "11401      63,348,832,292  \n",
              "11402      17,324,059,573  \n",
              "11403      51,554,253,806  \n",
              "\n",
              "[11404 rows x 8 columns]"
            ],
            "text/html": [
              "\n",
              "  <div id=\"df-7414ef53-c10f-435c-8d2a-e9aa9c9bd658\">\n",
              "    <div class=\"colab-df-container\">\n",
              "      <div>\n",
              "<style scoped>\n",
              "    .dataframe tbody tr th:only-of-type {\n",
              "        vertical-align: middle;\n",
              "    }\n",
              "\n",
              "    .dataframe tbody tr th {\n",
              "        vertical-align: top;\n",
              "    }\n",
              "\n",
              "    .dataframe thead th {\n",
              "        text-align: right;\n",
              "    }\n",
              "</style>\n",
              "<table border=\"1\" class=\"dataframe\">\n",
              "  <thead>\n",
              "    <tr style=\"text-align: right;\">\n",
              "      <th></th>\n",
              "      <th>종목코드</th>\n",
              "      <th>사업연도</th>\n",
              "      <th>보고서종류</th>\n",
              "      <th>회사명</th>\n",
              "      <th>업종</th>\n",
              "      <th>항목코드</th>\n",
              "      <th>항목명</th>\n",
              "      <th>당기</th>\n",
              "    </tr>\n",
              "  </thead>\n",
              "  <tbody>\n",
              "    <tr>\n",
              "      <th>0</th>\n",
              "      <td>001040</td>\n",
              "      <td>2016</td>\n",
              "      <td>사업보고서</td>\n",
              "      <td>CJ</td>\n",
              "      <td>715</td>\n",
              "      <td>ifrs_Revenue</td>\n",
              "      <td>영업수익</td>\n",
              "      <td>23,954,197,397,000</td>\n",
              "    </tr>\n",
              "    <tr>\n",
              "      <th>1</th>\n",
              "      <td>000120</td>\n",
              "      <td>2016</td>\n",
              "      <td>사업보고서</td>\n",
              "      <td>CJ대한통운</td>\n",
              "      <td>493</td>\n",
              "      <td>ifrs_Revenue</td>\n",
              "      <td>매출액</td>\n",
              "      <td>6,081,945,642,204</td>\n",
              "    </tr>\n",
              "    <tr>\n",
              "      <th>2</th>\n",
              "      <td>155660</td>\n",
              "      <td>2016</td>\n",
              "      <td>사업보고서</td>\n",
              "      <td>DSR</td>\n",
              "      <td>139</td>\n",
              "      <td>ifrs_Revenue</td>\n",
              "      <td>매출액</td>\n",
              "      <td>201,060,062,780</td>\n",
              "    </tr>\n",
              "    <tr>\n",
              "      <th>3</th>\n",
              "      <td>078930</td>\n",
              "      <td>2016</td>\n",
              "      <td>사업보고서</td>\n",
              "      <td>GS</td>\n",
              "      <td>715</td>\n",
              "      <td>ifrs_Revenue</td>\n",
              "      <td>매출</td>\n",
              "      <td>13,462,426,000,000</td>\n",
              "    </tr>\n",
              "    <tr>\n",
              "      <th>4</th>\n",
              "      <td>006360</td>\n",
              "      <td>2016</td>\n",
              "      <td>사업보고서</td>\n",
              "      <td>GS건설</td>\n",
              "      <td>411</td>\n",
              "      <td>ifrs_Revenue</td>\n",
              "      <td>매출액</td>\n",
              "      <td>11,035,596,402,664</td>\n",
              "    </tr>\n",
              "    <tr>\n",
              "      <th>...</th>\n",
              "      <td>...</td>\n",
              "      <td>...</td>\n",
              "      <td>...</td>\n",
              "      <td>...</td>\n",
              "      <td>...</td>\n",
              "      <td>...</td>\n",
              "      <td>...</td>\n",
              "      <td>...</td>\n",
              "    </tr>\n",
              "    <tr>\n",
              "      <th>11399</th>\n",
              "      <td>005380</td>\n",
              "      <td>2016</td>\n",
              "      <td>3분기보고서</td>\n",
              "      <td>현대자동차</td>\n",
              "      <td>301</td>\n",
              "      <td>dart_OperatingIncomeLoss</td>\n",
              "      <td>영업이익</td>\n",
              "      <td>4,172,334,000,000</td>\n",
              "    </tr>\n",
              "    <tr>\n",
              "      <th>11400</th>\n",
              "      <td>011760</td>\n",
              "      <td>2016</td>\n",
              "      <td>3분기보고서</td>\n",
              "      <td>현대종합상사</td>\n",
              "      <td>468</td>\n",
              "      <td>dart_OperatingIncomeLoss</td>\n",
              "      <td>영업이익</td>\n",
              "      <td>23,404,203,949</td>\n",
              "    </tr>\n",
              "    <tr>\n",
              "      <th>11401</th>\n",
              "      <td>008770</td>\n",
              "      <td>2016</td>\n",
              "      <td>3분기보고서</td>\n",
              "      <td>호텔신라</td>\n",
              "      <td>478</td>\n",
              "      <td>dart_OperatingIncomeLoss</td>\n",
              "      <td>V.영업이익</td>\n",
              "      <td>63,348,832,292</td>\n",
              "    </tr>\n",
              "    <tr>\n",
              "      <th>11402</th>\n",
              "      <td>064240</td>\n",
              "      <td>2016</td>\n",
              "      <td>3분기보고서</td>\n",
              "      <td>홈캐스트</td>\n",
              "      <td>265</td>\n",
              "      <td>dart_OperatingIncomeLoss</td>\n",
              "      <td>영업이익(손실)</td>\n",
              "      <td>17,324,059,573</td>\n",
              "    </tr>\n",
              "    <tr>\n",
              "      <th>11403</th>\n",
              "      <td>006060</td>\n",
              "      <td>2016</td>\n",
              "      <td>3분기보고서</td>\n",
              "      <td>화승인더스트리</td>\n",
              "      <td>222</td>\n",
              "      <td>dart_OperatingIncomeLoss</td>\n",
              "      <td>영업이익(손실)</td>\n",
              "      <td>51,554,253,806</td>\n",
              "    </tr>\n",
              "  </tbody>\n",
              "</table>\n",
              "<p>11404 rows × 8 columns</p>\n",
              "</div>\n",
              "      <button class=\"colab-df-convert\" onclick=\"convertToInteractive('df-7414ef53-c10f-435c-8d2a-e9aa9c9bd658')\"\n",
              "              title=\"Convert this dataframe to an interactive table.\"\n",
              "              style=\"display:none;\">\n",
              "        \n",
              "  <svg xmlns=\"http://www.w3.org/2000/svg\" height=\"24px\"viewBox=\"0 0 24 24\"\n",
              "       width=\"24px\">\n",
              "    <path d=\"M0 0h24v24H0V0z\" fill=\"none\"/>\n",
              "    <path d=\"M18.56 5.44l.94 2.06.94-2.06 2.06-.94-2.06-.94-.94-2.06-.94 2.06-2.06.94zm-11 1L8.5 8.5l.94-2.06 2.06-.94-2.06-.94L8.5 2.5l-.94 2.06-2.06.94zm10 10l.94 2.06.94-2.06 2.06-.94-2.06-.94-.94-2.06-.94 2.06-2.06.94z\"/><path d=\"M17.41 7.96l-1.37-1.37c-.4-.4-.92-.59-1.43-.59-.52 0-1.04.2-1.43.59L10.3 9.45l-7.72 7.72c-.78.78-.78 2.05 0 2.83L4 21.41c.39.39.9.59 1.41.59.51 0 1.02-.2 1.41-.59l7.78-7.78 2.81-2.81c.8-.78.8-2.07 0-2.86zM5.41 20L4 18.59l7.72-7.72 1.47 1.35L5.41 20z\"/>\n",
              "  </svg>\n",
              "      </button>\n",
              "      \n",
              "  <style>\n",
              "    .colab-df-container {\n",
              "      display:flex;\n",
              "      flex-wrap:wrap;\n",
              "      gap: 12px;\n",
              "    }\n",
              "\n",
              "    .colab-df-convert {\n",
              "      background-color: #E8F0FE;\n",
              "      border: none;\n",
              "      border-radius: 50%;\n",
              "      cursor: pointer;\n",
              "      display: none;\n",
              "      fill: #1967D2;\n",
              "      height: 32px;\n",
              "      padding: 0 0 0 0;\n",
              "      width: 32px;\n",
              "    }\n",
              "\n",
              "    .colab-df-convert:hover {\n",
              "      background-color: #E2EBFA;\n",
              "      box-shadow: 0px 1px 2px rgba(60, 64, 67, 0.3), 0px 1px 3px 1px rgba(60, 64, 67, 0.15);\n",
              "      fill: #174EA6;\n",
              "    }\n",
              "\n",
              "    [theme=dark] .colab-df-convert {\n",
              "      background-color: #3B4455;\n",
              "      fill: #D2E3FC;\n",
              "    }\n",
              "\n",
              "    [theme=dark] .colab-df-convert:hover {\n",
              "      background-color: #434B5C;\n",
              "      box-shadow: 0px 1px 3px 1px rgba(0, 0, 0, 0.15);\n",
              "      filter: drop-shadow(0px 1px 2px rgba(0, 0, 0, 0.3));\n",
              "      fill: #FFFFFF;\n",
              "    }\n",
              "  </style>\n",
              "\n",
              "      <script>\n",
              "        const buttonEl =\n",
              "          document.querySelector('#df-7414ef53-c10f-435c-8d2a-e9aa9c9bd658 button.colab-df-convert');\n",
              "        buttonEl.style.display =\n",
              "          google.colab.kernel.accessAllowed ? 'block' : 'none';\n",
              "\n",
              "        async function convertToInteractive(key) {\n",
              "          const element = document.querySelector('#df-7414ef53-c10f-435c-8d2a-e9aa9c9bd658');\n",
              "          const dataTable =\n",
              "            await google.colab.kernel.invokeFunction('convertToInteractive',\n",
              "                                                     [key], {});\n",
              "          if (!dataTable) return;\n",
              "\n",
              "          const docLinkHtml = 'Like what you see? Visit the ' +\n",
              "            '<a target=\"_blank\" href=https://colab.research.google.com/notebooks/data_table.ipynb>data table notebook</a>'\n",
              "            + ' to learn more about interactive tables.';\n",
              "          element.innerHTML = '';\n",
              "          dataTable['output_type'] = 'display_data';\n",
              "          await google.colab.output.renderOutput(dataTable, element);\n",
              "          const docLink = document.createElement('div');\n",
              "          docLink.innerHTML = docLinkHtml;\n",
              "          element.appendChild(docLink);\n",
              "        }\n",
              "      </script>\n",
              "    </div>\n",
              "  </div>\n",
              "  "
            ]
          },
          "metadata": {},
          "execution_count": 12
        }
      ]
    },
    {
      "cell_type": "markdown",
      "source": [
        "---\n",
        "\n",
        "# 데이터 전처리"
      ],
      "metadata": {
        "id": "ZCHmpblh-Ti_"
      }
    },
    {
      "cell_type": "code",
      "source": [
        "누락데이터['항목명'] = 누락데이터.apply(lambda x: '매출액' if x['항목코드'] == 'ifrs_Revenue' else x['항목명'], axis=1)\n",
        "누락데이터['항목명'] = 누락데이터.apply(lambda x: '매출액' if x['항목코드'] == 'ifrs-full_Revenue' else x['항목명'], axis=1)\n",
        "누락데이터['항목명'] = 누락데이터.apply(lambda x: '매출총이익' if x['항목코드'] == 'ifrs_GrossProfit' else x['항목명'], axis=1)\n",
        "누락데이터['항목명'] = 누락데이터.apply(lambda x: '매출총이익' if x['항목코드'] == 'ifrs-full_GrossProfit' else x['항목명'], axis=1)\n",
        "누락데이터['항목명'] = 누락데이터.apply(lambda x: '영업이익' if x['항목코드'] == 'dart_OperatingIncomeLoss' else x['항목명'], axis=1)\n",
        "누락데이터['항목명'] = 누락데이터.apply(lambda x: '당기순이익' if x['항목코드'] == 'ifrs_ProfitLoss' else x['항목명'], axis=1)\n",
        "누락데이터['항목명'] = 누락데이터.apply(lambda x: '당기순이익' if x['항목코드'] == 'ifrs-full_ProfitLoss' else x['항목명'], axis=1)\n",
        "누락데이터['항목명'] = 누락데이터.apply(lambda x: '감가상각비' if x['항목코드'] == 'dart_DepreciationExpense' else x['항목명'], axis=1)\n",
        "누락데이터['항목명'] = 누락데이터.apply(lambda x: '법인세비용차감전순이익' if x['항목코드'] == 'ifrs_ProfitLossBeforeTax' else x['항목명'], axis=1)\n",
        "누락데이터['항목명'] = 누락데이터.apply(lambda x: '법인세비용차감전순이익' if x['항목코드'] == 'ifrs-full_ProfitLossBeforeTax' else x['항목명'], axis=1)\n",
        "누락데이터['항목명'] = 누락데이터.apply(lambda x: '매출액' if x['항목명'] == '수익(매출액)' else x['항목명'], axis=1)\n",
        "누락데이터['항목명'] = 누락데이터.apply(lambda x: '매출총이익' if x['항목명'] == '매출총이익(손실)' else x['항목명'], axis=1)\n",
        "누락데이터['항목명'] = 누락데이터.apply(lambda x: '영업이익' if x['항목명'] == '영업이익(손실)' else x['항목명'], axis=1)\n",
        "누락데이터['항목명'] = 누락데이터.apply(lambda x: '당기순이익' if x['항목명'] == '당기순이익(손실)' else x['항목명'], axis=1)\n",
        "누락데이터['항목명'] = 누락데이터.apply(lambda x: '법인세차감전순이익' if x['항목명'] == '법인세차감전순이익(손실)' else x['항목명'], axis=1)\n",
        "누락데이터['항목명'] = 누락데이터.apply(lambda x: '법인세차감전순이익' if x['항목명'] == '법인세비용차감전순이익' else x['항목명'], axis=1)\n",
        "\n",
        "누락데이터['항목코드'] = 누락데이터.apply(lambda x: 'ifrs_Revenue' if x['항목명'] == '매출액' else x['항목코드'], axis=1)\n",
        "누락데이터['항목코드'] = 누락데이터.apply(lambda x: 'ifrs_GrossProfit' if x['항목명'] == '매출총이익' else x['항목코드'], axis=1)\n",
        "누락데이터['항목코드'] = 누락데이터.apply(lambda x: 'dart_OperatingIncomeLoss' if x['항목명'] == '영업이익' else x['항목코드'], axis=1)\n",
        "누락데이터['항목코드'] = 누락데이터.apply(lambda x: 'ifrs_ProfitLoss' if x['항목명'] == '당기순이익' else x['항목코드'], axis=1)\n",
        "누락데이터['항목코드'] = 누락데이터.apply(lambda x: 'dart_DepreciationExpense' if x['항목명'] == '감가상각비' else x['항목코드'], axis=1)\n",
        "누락데이터['항목코드'] = 누락데이터.apply(lambda x: 'ifrs-full_ProfitLossBeforeTax' if x['항목명'] == '법인세차감전순이익' else x['항목코드'], axis=1)\n",
        "\n",
        "누락데이터 =  누락데이터.drop_duplicates()"
      ],
      "metadata": {
        "id": "MYOBovRN7x9n"
      },
      "execution_count": null,
      "outputs": []
    },
    {
      "cell_type": "code",
      "source": [
        "누락데이터['항목코드'].unique()"
      ],
      "metadata": {
        "colab": {
          "base_uri": "https://localhost:8080/"
        },
        "id": "IYlHyliW8-cP",
        "outputId": "3fb5f10d-6fb2-4b24-bae3-cb1227e8f7ca"
      },
      "execution_count": null,
      "outputs": [
        {
          "output_type": "execute_result",
          "data": {
            "text/plain": [
              "array(['ifrs_Revenue', 'ifrs_GrossProfit', 'dart_OperatingIncomeLoss'],\n",
              "      dtype=object)"
            ]
          },
          "metadata": {},
          "execution_count": 14
        }
      ]
    },
    {
      "cell_type": "code",
      "source": [
        "누락데이터['항목명'].unique()"
      ],
      "metadata": {
        "colab": {
          "base_uri": "https://localhost:8080/"
        },
        "id": "BLpy7rti-Yv6",
        "outputId": "e650ab10-fdc8-495b-942b-c8406829425a"
      },
      "execution_count": null,
      "outputs": [
        {
          "output_type": "execute_result",
          "data": {
            "text/plain": [
              "array(['매출액', '매출총이익', '영업이익'], dtype=object)"
            ]
          },
          "metadata": {},
          "execution_count": 15
        }
      ]
    },
    {
      "cell_type": "code",
      "source": [
        "누락데이터"
      ],
      "metadata": {
        "colab": {
          "base_uri": "https://localhost:8080/",
          "height": 1000
        },
        "id": "mlWmlHNM9ATq",
        "outputId": "20815394-9c00-40ce-a904-70fdc63280cd"
      },
      "execution_count": null,
      "outputs": [
        {
          "output_type": "execute_result",
          "data": {
            "text/plain": [
              "         종목코드  사업연도   보고서종류      회사명   업종                      항목코드   항목명  \\\n",
              "0      001040  2016   사업보고서       CJ  715              ifrs_Revenue   매출액   \n",
              "1      000120  2016   사업보고서   CJ대한통운  493              ifrs_Revenue   매출액   \n",
              "2      155660  2016   사업보고서      DSR  139              ifrs_Revenue   매출액   \n",
              "3      078930  2016   사업보고서       GS  715              ifrs_Revenue   매출액   \n",
              "4      006360  2016   사업보고서     GS건설  411              ifrs_Revenue   매출액   \n",
              "...       ...   ...     ...      ...  ...                       ...   ...   \n",
              "11399  005380  2016  3분기보고서    현대자동차  301  dart_OperatingIncomeLoss  영업이익   \n",
              "11400  011760  2016  3분기보고서   현대종합상사  468  dart_OperatingIncomeLoss  영업이익   \n",
              "11401  008770  2016  3분기보고서     호텔신라  478  dart_OperatingIncomeLoss  영업이익   \n",
              "11402  064240  2016  3분기보고서     홈캐스트  265  dart_OperatingIncomeLoss  영업이익   \n",
              "11403  006060  2016  3분기보고서  화승인더스트리  222  dart_OperatingIncomeLoss  영업이익   \n",
              "\n",
              "                       당기  \n",
              "0      23,954,197,397,000  \n",
              "1       6,081,945,642,204  \n",
              "2         201,060,062,780  \n",
              "3      13,462,426,000,000  \n",
              "4      11,035,596,402,664  \n",
              "...                   ...  \n",
              "11399   4,172,334,000,000  \n",
              "11400      23,404,203,949  \n",
              "11401      63,348,832,292  \n",
              "11402      17,324,059,573  \n",
              "11403      51,554,253,806  \n",
              "\n",
              "[11355 rows x 8 columns]"
            ],
            "text/html": [
              "\n",
              "  <div id=\"df-f3c10be4-faab-4446-b79d-b1d2dc78a73b\">\n",
              "    <div class=\"colab-df-container\">\n",
              "      <div>\n",
              "<style scoped>\n",
              "    .dataframe tbody tr th:only-of-type {\n",
              "        vertical-align: middle;\n",
              "    }\n",
              "\n",
              "    .dataframe tbody tr th {\n",
              "        vertical-align: top;\n",
              "    }\n",
              "\n",
              "    .dataframe thead th {\n",
              "        text-align: right;\n",
              "    }\n",
              "</style>\n",
              "<table border=\"1\" class=\"dataframe\">\n",
              "  <thead>\n",
              "    <tr style=\"text-align: right;\">\n",
              "      <th></th>\n",
              "      <th>종목코드</th>\n",
              "      <th>사업연도</th>\n",
              "      <th>보고서종류</th>\n",
              "      <th>회사명</th>\n",
              "      <th>업종</th>\n",
              "      <th>항목코드</th>\n",
              "      <th>항목명</th>\n",
              "      <th>당기</th>\n",
              "    </tr>\n",
              "  </thead>\n",
              "  <tbody>\n",
              "    <tr>\n",
              "      <th>0</th>\n",
              "      <td>001040</td>\n",
              "      <td>2016</td>\n",
              "      <td>사업보고서</td>\n",
              "      <td>CJ</td>\n",
              "      <td>715</td>\n",
              "      <td>ifrs_Revenue</td>\n",
              "      <td>매출액</td>\n",
              "      <td>23,954,197,397,000</td>\n",
              "    </tr>\n",
              "    <tr>\n",
              "      <th>1</th>\n",
              "      <td>000120</td>\n",
              "      <td>2016</td>\n",
              "      <td>사업보고서</td>\n",
              "      <td>CJ대한통운</td>\n",
              "      <td>493</td>\n",
              "      <td>ifrs_Revenue</td>\n",
              "      <td>매출액</td>\n",
              "      <td>6,081,945,642,204</td>\n",
              "    </tr>\n",
              "    <tr>\n",
              "      <th>2</th>\n",
              "      <td>155660</td>\n",
              "      <td>2016</td>\n",
              "      <td>사업보고서</td>\n",
              "      <td>DSR</td>\n",
              "      <td>139</td>\n",
              "      <td>ifrs_Revenue</td>\n",
              "      <td>매출액</td>\n",
              "      <td>201,060,062,780</td>\n",
              "    </tr>\n",
              "    <tr>\n",
              "      <th>3</th>\n",
              "      <td>078930</td>\n",
              "      <td>2016</td>\n",
              "      <td>사업보고서</td>\n",
              "      <td>GS</td>\n",
              "      <td>715</td>\n",
              "      <td>ifrs_Revenue</td>\n",
              "      <td>매출액</td>\n",
              "      <td>13,462,426,000,000</td>\n",
              "    </tr>\n",
              "    <tr>\n",
              "      <th>4</th>\n",
              "      <td>006360</td>\n",
              "      <td>2016</td>\n",
              "      <td>사업보고서</td>\n",
              "      <td>GS건설</td>\n",
              "      <td>411</td>\n",
              "      <td>ifrs_Revenue</td>\n",
              "      <td>매출액</td>\n",
              "      <td>11,035,596,402,664</td>\n",
              "    </tr>\n",
              "    <tr>\n",
              "      <th>...</th>\n",
              "      <td>...</td>\n",
              "      <td>...</td>\n",
              "      <td>...</td>\n",
              "      <td>...</td>\n",
              "      <td>...</td>\n",
              "      <td>...</td>\n",
              "      <td>...</td>\n",
              "      <td>...</td>\n",
              "    </tr>\n",
              "    <tr>\n",
              "      <th>11399</th>\n",
              "      <td>005380</td>\n",
              "      <td>2016</td>\n",
              "      <td>3분기보고서</td>\n",
              "      <td>현대자동차</td>\n",
              "      <td>301</td>\n",
              "      <td>dart_OperatingIncomeLoss</td>\n",
              "      <td>영업이익</td>\n",
              "      <td>4,172,334,000,000</td>\n",
              "    </tr>\n",
              "    <tr>\n",
              "      <th>11400</th>\n",
              "      <td>011760</td>\n",
              "      <td>2016</td>\n",
              "      <td>3분기보고서</td>\n",
              "      <td>현대종합상사</td>\n",
              "      <td>468</td>\n",
              "      <td>dart_OperatingIncomeLoss</td>\n",
              "      <td>영업이익</td>\n",
              "      <td>23,404,203,949</td>\n",
              "    </tr>\n",
              "    <tr>\n",
              "      <th>11401</th>\n",
              "      <td>008770</td>\n",
              "      <td>2016</td>\n",
              "      <td>3분기보고서</td>\n",
              "      <td>호텔신라</td>\n",
              "      <td>478</td>\n",
              "      <td>dart_OperatingIncomeLoss</td>\n",
              "      <td>영업이익</td>\n",
              "      <td>63,348,832,292</td>\n",
              "    </tr>\n",
              "    <tr>\n",
              "      <th>11402</th>\n",
              "      <td>064240</td>\n",
              "      <td>2016</td>\n",
              "      <td>3분기보고서</td>\n",
              "      <td>홈캐스트</td>\n",
              "      <td>265</td>\n",
              "      <td>dart_OperatingIncomeLoss</td>\n",
              "      <td>영업이익</td>\n",
              "      <td>17,324,059,573</td>\n",
              "    </tr>\n",
              "    <tr>\n",
              "      <th>11403</th>\n",
              "      <td>006060</td>\n",
              "      <td>2016</td>\n",
              "      <td>3분기보고서</td>\n",
              "      <td>화승인더스트리</td>\n",
              "      <td>222</td>\n",
              "      <td>dart_OperatingIncomeLoss</td>\n",
              "      <td>영업이익</td>\n",
              "      <td>51,554,253,806</td>\n",
              "    </tr>\n",
              "  </tbody>\n",
              "</table>\n",
              "<p>11355 rows × 8 columns</p>\n",
              "</div>\n",
              "      <button class=\"colab-df-convert\" onclick=\"convertToInteractive('df-f3c10be4-faab-4446-b79d-b1d2dc78a73b')\"\n",
              "              title=\"Convert this dataframe to an interactive table.\"\n",
              "              style=\"display:none;\">\n",
              "        \n",
              "  <svg xmlns=\"http://www.w3.org/2000/svg\" height=\"24px\"viewBox=\"0 0 24 24\"\n",
              "       width=\"24px\">\n",
              "    <path d=\"M0 0h24v24H0V0z\" fill=\"none\"/>\n",
              "    <path d=\"M18.56 5.44l.94 2.06.94-2.06 2.06-.94-2.06-.94-.94-2.06-.94 2.06-2.06.94zm-11 1L8.5 8.5l.94-2.06 2.06-.94-2.06-.94L8.5 2.5l-.94 2.06-2.06.94zm10 10l.94 2.06.94-2.06 2.06-.94-2.06-.94-.94-2.06-.94 2.06-2.06.94z\"/><path d=\"M17.41 7.96l-1.37-1.37c-.4-.4-.92-.59-1.43-.59-.52 0-1.04.2-1.43.59L10.3 9.45l-7.72 7.72c-.78.78-.78 2.05 0 2.83L4 21.41c.39.39.9.59 1.41.59.51 0 1.02-.2 1.41-.59l7.78-7.78 2.81-2.81c.8-.78.8-2.07 0-2.86zM5.41 20L4 18.59l7.72-7.72 1.47 1.35L5.41 20z\"/>\n",
              "  </svg>\n",
              "      </button>\n",
              "      \n",
              "  <style>\n",
              "    .colab-df-container {\n",
              "      display:flex;\n",
              "      flex-wrap:wrap;\n",
              "      gap: 12px;\n",
              "    }\n",
              "\n",
              "    .colab-df-convert {\n",
              "      background-color: #E8F0FE;\n",
              "      border: none;\n",
              "      border-radius: 50%;\n",
              "      cursor: pointer;\n",
              "      display: none;\n",
              "      fill: #1967D2;\n",
              "      height: 32px;\n",
              "      padding: 0 0 0 0;\n",
              "      width: 32px;\n",
              "    }\n",
              "\n",
              "    .colab-df-convert:hover {\n",
              "      background-color: #E2EBFA;\n",
              "      box-shadow: 0px 1px 2px rgba(60, 64, 67, 0.3), 0px 1px 3px 1px rgba(60, 64, 67, 0.15);\n",
              "      fill: #174EA6;\n",
              "    }\n",
              "\n",
              "    [theme=dark] .colab-df-convert {\n",
              "      background-color: #3B4455;\n",
              "      fill: #D2E3FC;\n",
              "    }\n",
              "\n",
              "    [theme=dark] .colab-df-convert:hover {\n",
              "      background-color: #434B5C;\n",
              "      box-shadow: 0px 1px 3px 1px rgba(0, 0, 0, 0.15);\n",
              "      filter: drop-shadow(0px 1px 2px rgba(0, 0, 0, 0.3));\n",
              "      fill: #FFFFFF;\n",
              "    }\n",
              "  </style>\n",
              "\n",
              "      <script>\n",
              "        const buttonEl =\n",
              "          document.querySelector('#df-f3c10be4-faab-4446-b79d-b1d2dc78a73b button.colab-df-convert');\n",
              "        buttonEl.style.display =\n",
              "          google.colab.kernel.accessAllowed ? 'block' : 'none';\n",
              "\n",
              "        async function convertToInteractive(key) {\n",
              "          const element = document.querySelector('#df-f3c10be4-faab-4446-b79d-b1d2dc78a73b');\n",
              "          const dataTable =\n",
              "            await google.colab.kernel.invokeFunction('convertToInteractive',\n",
              "                                                     [key], {});\n",
              "          if (!dataTable) return;\n",
              "\n",
              "          const docLinkHtml = 'Like what you see? Visit the ' +\n",
              "            '<a target=\"_blank\" href=https://colab.research.google.com/notebooks/data_table.ipynb>data table notebook</a>'\n",
              "            + ' to learn more about interactive tables.';\n",
              "          element.innerHTML = '';\n",
              "          dataTable['output_type'] = 'display_data';\n",
              "          await google.colab.output.renderOutput(dataTable, element);\n",
              "          const docLink = document.createElement('div');\n",
              "          docLink.innerHTML = docLinkHtml;\n",
              "          element.appendChild(docLink);\n",
              "        }\n",
              "      </script>\n",
              "    </div>\n",
              "  </div>\n",
              "  "
            ]
          },
          "metadata": {},
          "execution_count": 16
        }
      ]
    },
    {
      "cell_type": "markdown",
      "source": [
        "# 출력"
      ],
      "metadata": {
        "id": "22tjTKe3Ehey"
      }
    },
    {
      "cell_type": "code",
      "source": [
        "누락데이터.to_csv('/content/drive/MyDrive/22캡스톤디자인/재무일괄/일괄/누락데이터.csv')"
      ],
      "metadata": {
        "id": "9220y16M9Svl"
      },
      "execution_count": null,
      "outputs": []
    },
    {
      "cell_type": "code",
      "source": [
        ""
      ],
      "metadata": {
        "id": "csXCtCs5EGH4"
      },
      "execution_count": null,
      "outputs": []
    }
  ]
}